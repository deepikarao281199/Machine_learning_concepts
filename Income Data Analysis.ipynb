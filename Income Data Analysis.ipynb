{
 "cells": [
  {
   "cell_type": "code",
   "execution_count": 5,
   "id": "43398ddf",
   "metadata": {
    "id": "43398ddf"
   },
   "outputs": [],
   "source": [
    "# Academic Integrity Statement\n",
    "# \"I (We) certify that the code and data in this assignment were generated independently,\n",
    "# using only the tools and resources defined in the course and that I (we) did not receive\n",
    "# any external help, coaching or contributions during the production of this work.\""
   ]
  },
  {
   "cell_type": "code",
   "execution_count": 6,
   "id": "9d41e39c",
   "metadata": {
    "id": "9d41e39c"
   },
   "outputs": [],
   "source": [
    "import pandas as pd\n",
    "import numpy as np\n",
    "import matplotlib.pyplot as plt\n",
    "import seaborn as sns\n",
    "import warnings\n",
    "warnings.filterwarnings(\"ignore\")\n",
    "import tensorflow as tf\n",
    "from tensorflow import keras\n",
    "from keras.models import Sequential\n",
    "from keras.layers import Dense\n",
    "from sklearn.model_selection import train_test_split\n"
   ]
  },
  {
   "cell_type": "code",
   "execution_count": 7,
   "id": "f2362cb9",
   "metadata": {
    "id": "f2362cb9"
   },
   "outputs": [],
   "source": [
    "#Part I: Data Analysis – income_dataset\n",
    "#Step-1:\n",
    "data = pd.read_csv(\"income.csv\")\n",
    "data_income = pd.DataFrame(data)"
   ]
  },
  {
   "cell_type": "code",
   "execution_count": 8,
   "id": "f5b16b20",
   "metadata": {
    "colab": {
     "base_uri": "https://localhost:8080/",
     "height": 585
    },
    "id": "f5b16b20",
    "outputId": "c036c2d8-6959-4941-e6ca-32778eb2e10b"
   },
   "outputs": [
    {
     "data": {
      "text/html": [
       "<div>\n",
       "<style scoped>\n",
       "    .dataframe tbody tr th:only-of-type {\n",
       "        vertical-align: middle;\n",
       "    }\n",
       "\n",
       "    .dataframe tbody tr th {\n",
       "        vertical-align: top;\n",
       "    }\n",
       "\n",
       "    .dataframe thead th {\n",
       "        text-align: right;\n",
       "    }\n",
       "</style>\n",
       "<table border=\"1\" class=\"dataframe\">\n",
       "  <thead>\n",
       "    <tr style=\"text-align: right;\">\n",
       "      <th></th>\n",
       "      <th>age</th>\n",
       "      <th>workclass</th>\n",
       "      <th>fnlwgt</th>\n",
       "      <th>education</th>\n",
       "      <th>education.num</th>\n",
       "      <th>marital.status</th>\n",
       "      <th>occupation</th>\n",
       "      <th>relationship</th>\n",
       "      <th>race</th>\n",
       "      <th>sex</th>\n",
       "      <th>capital.gain</th>\n",
       "      <th>capital.loss</th>\n",
       "      <th>hours.per.week</th>\n",
       "      <th>native.country</th>\n",
       "      <th>income</th>\n",
       "    </tr>\n",
       "  </thead>\n",
       "  <tbody>\n",
       "    <tr>\n",
       "      <th>0</th>\n",
       "      <td>90</td>\n",
       "      <td>?</td>\n",
       "      <td>77053</td>\n",
       "      <td>HS-grad</td>\n",
       "      <td>9</td>\n",
       "      <td>Widowed</td>\n",
       "      <td>?</td>\n",
       "      <td>Not-in-family</td>\n",
       "      <td>White</td>\n",
       "      <td>Female</td>\n",
       "      <td>0</td>\n",
       "      <td>4356</td>\n",
       "      <td>40</td>\n",
       "      <td>United-States</td>\n",
       "      <td>&lt;=50K</td>\n",
       "    </tr>\n",
       "    <tr>\n",
       "      <th>1</th>\n",
       "      <td>82</td>\n",
       "      <td>Private</td>\n",
       "      <td>132870</td>\n",
       "      <td>HS-grad</td>\n",
       "      <td>9</td>\n",
       "      <td>Widowed</td>\n",
       "      <td>Exec-managerial</td>\n",
       "      <td>Not-in-family</td>\n",
       "      <td>White</td>\n",
       "      <td>Female</td>\n",
       "      <td>0</td>\n",
       "      <td>4356</td>\n",
       "      <td>18</td>\n",
       "      <td>United-States</td>\n",
       "      <td>&lt;=50K</td>\n",
       "    </tr>\n",
       "    <tr>\n",
       "      <th>2</th>\n",
       "      <td>66</td>\n",
       "      <td>?</td>\n",
       "      <td>186061</td>\n",
       "      <td>Some-college</td>\n",
       "      <td>10</td>\n",
       "      <td>Widowed</td>\n",
       "      <td>?</td>\n",
       "      <td>Unmarried</td>\n",
       "      <td>Black</td>\n",
       "      <td>Female</td>\n",
       "      <td>0</td>\n",
       "      <td>4356</td>\n",
       "      <td>40</td>\n",
       "      <td>United-States</td>\n",
       "      <td>&lt;=50K</td>\n",
       "    </tr>\n",
       "    <tr>\n",
       "      <th>3</th>\n",
       "      <td>54</td>\n",
       "      <td>Private</td>\n",
       "      <td>140359</td>\n",
       "      <td>7th-8th</td>\n",
       "      <td>4</td>\n",
       "      <td>Divorced</td>\n",
       "      <td>Machine-op-inspct</td>\n",
       "      <td>Unmarried</td>\n",
       "      <td>White</td>\n",
       "      <td>Female</td>\n",
       "      <td>0</td>\n",
       "      <td>3900</td>\n",
       "      <td>40</td>\n",
       "      <td>United-States</td>\n",
       "      <td>&lt;=50K</td>\n",
       "    </tr>\n",
       "    <tr>\n",
       "      <th>4</th>\n",
       "      <td>41</td>\n",
       "      <td>Private</td>\n",
       "      <td>264663</td>\n",
       "      <td>Some-college</td>\n",
       "      <td>10</td>\n",
       "      <td>Separated</td>\n",
       "      <td>Prof-specialty</td>\n",
       "      <td>Own-child</td>\n",
       "      <td>White</td>\n",
       "      <td>Female</td>\n",
       "      <td>0</td>\n",
       "      <td>3900</td>\n",
       "      <td>40</td>\n",
       "      <td>United-States</td>\n",
       "      <td>&lt;=50K</td>\n",
       "    </tr>\n",
       "    <tr>\n",
       "      <th>...</th>\n",
       "      <td>...</td>\n",
       "      <td>...</td>\n",
       "      <td>...</td>\n",
       "      <td>...</td>\n",
       "      <td>...</td>\n",
       "      <td>...</td>\n",
       "      <td>...</td>\n",
       "      <td>...</td>\n",
       "      <td>...</td>\n",
       "      <td>...</td>\n",
       "      <td>...</td>\n",
       "      <td>...</td>\n",
       "      <td>...</td>\n",
       "      <td>...</td>\n",
       "      <td>...</td>\n",
       "    </tr>\n",
       "    <tr>\n",
       "      <th>32556</th>\n",
       "      <td>22</td>\n",
       "      <td>Private</td>\n",
       "      <td>310152</td>\n",
       "      <td>Some-college</td>\n",
       "      <td>10</td>\n",
       "      <td>Never-married</td>\n",
       "      <td>Protective-serv</td>\n",
       "      <td>Not-in-family</td>\n",
       "      <td>White</td>\n",
       "      <td>Male</td>\n",
       "      <td>0</td>\n",
       "      <td>0</td>\n",
       "      <td>40</td>\n",
       "      <td>United-States</td>\n",
       "      <td>&lt;=50K</td>\n",
       "    </tr>\n",
       "    <tr>\n",
       "      <th>32557</th>\n",
       "      <td>27</td>\n",
       "      <td>Private</td>\n",
       "      <td>257302</td>\n",
       "      <td>Assoc-acdm</td>\n",
       "      <td>12</td>\n",
       "      <td>Married-civ-spouse</td>\n",
       "      <td>Tech-support</td>\n",
       "      <td>Wife</td>\n",
       "      <td>White</td>\n",
       "      <td>Female</td>\n",
       "      <td>0</td>\n",
       "      <td>0</td>\n",
       "      <td>38</td>\n",
       "      <td>United-States</td>\n",
       "      <td>&lt;=50K</td>\n",
       "    </tr>\n",
       "    <tr>\n",
       "      <th>32558</th>\n",
       "      <td>40</td>\n",
       "      <td>Private</td>\n",
       "      <td>154374</td>\n",
       "      <td>HS-grad</td>\n",
       "      <td>9</td>\n",
       "      <td>Married-civ-spouse</td>\n",
       "      <td>Machine-op-inspct</td>\n",
       "      <td>Husband</td>\n",
       "      <td>White</td>\n",
       "      <td>Male</td>\n",
       "      <td>0</td>\n",
       "      <td>0</td>\n",
       "      <td>40</td>\n",
       "      <td>United-States</td>\n",
       "      <td>&gt;50K</td>\n",
       "    </tr>\n",
       "    <tr>\n",
       "      <th>32559</th>\n",
       "      <td>58</td>\n",
       "      <td>Private</td>\n",
       "      <td>151910</td>\n",
       "      <td>HS-grad</td>\n",
       "      <td>9</td>\n",
       "      <td>Widowed</td>\n",
       "      <td>Adm-clerical</td>\n",
       "      <td>Unmarried</td>\n",
       "      <td>White</td>\n",
       "      <td>Female</td>\n",
       "      <td>0</td>\n",
       "      <td>0</td>\n",
       "      <td>40</td>\n",
       "      <td>United-States</td>\n",
       "      <td>&lt;=50K</td>\n",
       "    </tr>\n",
       "    <tr>\n",
       "      <th>32560</th>\n",
       "      <td>22</td>\n",
       "      <td>Private</td>\n",
       "      <td>201490</td>\n",
       "      <td>HS-grad</td>\n",
       "      <td>9</td>\n",
       "      <td>Never-married</td>\n",
       "      <td>Adm-clerical</td>\n",
       "      <td>Own-child</td>\n",
       "      <td>White</td>\n",
       "      <td>Male</td>\n",
       "      <td>0</td>\n",
       "      <td>0</td>\n",
       "      <td>20</td>\n",
       "      <td>United-States</td>\n",
       "      <td>&lt;=50K</td>\n",
       "    </tr>\n",
       "  </tbody>\n",
       "</table>\n",
       "<p>32561 rows × 15 columns</p>\n",
       "</div>"
      ],
      "text/plain": [
       "       age workclass  fnlwgt     education  education.num      marital.status  \\\n",
       "0       90         ?   77053       HS-grad              9             Widowed   \n",
       "1       82   Private  132870       HS-grad              9             Widowed   \n",
       "2       66         ?  186061  Some-college             10             Widowed   \n",
       "3       54   Private  140359       7th-8th              4            Divorced   \n",
       "4       41   Private  264663  Some-college             10           Separated   \n",
       "...    ...       ...     ...           ...            ...                 ...   \n",
       "32556   22   Private  310152  Some-college             10       Never-married   \n",
       "32557   27   Private  257302    Assoc-acdm             12  Married-civ-spouse   \n",
       "32558   40   Private  154374       HS-grad              9  Married-civ-spouse   \n",
       "32559   58   Private  151910       HS-grad              9             Widowed   \n",
       "32560   22   Private  201490       HS-grad              9       Never-married   \n",
       "\n",
       "              occupation   relationship   race     sex  capital.gain  \\\n",
       "0                      ?  Not-in-family  White  Female             0   \n",
       "1        Exec-managerial  Not-in-family  White  Female             0   \n",
       "2                      ?      Unmarried  Black  Female             0   \n",
       "3      Machine-op-inspct      Unmarried  White  Female             0   \n",
       "4         Prof-specialty      Own-child  White  Female             0   \n",
       "...                  ...            ...    ...     ...           ...   \n",
       "32556    Protective-serv  Not-in-family  White    Male             0   \n",
       "32557       Tech-support           Wife  White  Female             0   \n",
       "32558  Machine-op-inspct        Husband  White    Male             0   \n",
       "32559       Adm-clerical      Unmarried  White  Female             0   \n",
       "32560       Adm-clerical      Own-child  White    Male             0   \n",
       "\n",
       "       capital.loss  hours.per.week native.country income  \n",
       "0              4356              40  United-States  <=50K  \n",
       "1              4356              18  United-States  <=50K  \n",
       "2              4356              40  United-States  <=50K  \n",
       "3              3900              40  United-States  <=50K  \n",
       "4              3900              40  United-States  <=50K  \n",
       "...             ...             ...            ...    ...  \n",
       "32556             0              40  United-States  <=50K  \n",
       "32557             0              38  United-States  <=50K  \n",
       "32558             0              40  United-States   >50K  \n",
       "32559             0              40  United-States  <=50K  \n",
       "32560             0              20  United-States  <=50K  \n",
       "\n",
       "[32561 rows x 15 columns]"
      ]
     },
     "execution_count": 8,
     "metadata": {},
     "output_type": "execute_result"
    }
   ],
   "source": [
    "#Step-1a: testing to load dataset\n",
    "data_income"
   ]
  },
  {
   "cell_type": "code",
   "execution_count": 9,
   "id": "16ee3158",
   "metadata": {
    "colab": {
     "base_uri": "https://localhost:8080/",
     "height": 361
    },
    "id": "16ee3158",
    "outputId": "41b5103a-d082-4b33-fdce-fe6afd8ff519"
   },
   "outputs": [
    {
     "data": {
      "text/html": [
       "<div>\n",
       "<style scoped>\n",
       "    .dataframe tbody tr th:only-of-type {\n",
       "        vertical-align: middle;\n",
       "    }\n",
       "\n",
       "    .dataframe tbody tr th {\n",
       "        vertical-align: top;\n",
       "    }\n",
       "\n",
       "    .dataframe thead th {\n",
       "        text-align: right;\n",
       "    }\n",
       "</style>\n",
       "<table border=\"1\" class=\"dataframe\">\n",
       "  <thead>\n",
       "    <tr style=\"text-align: right;\">\n",
       "      <th></th>\n",
       "      <th>age</th>\n",
       "      <th>fnlwgt</th>\n",
       "      <th>education.num</th>\n",
       "      <th>capital.gain</th>\n",
       "      <th>capital.loss</th>\n",
       "      <th>hours.per.week</th>\n",
       "    </tr>\n",
       "  </thead>\n",
       "  <tbody>\n",
       "    <tr>\n",
       "      <th>count</th>\n",
       "      <td>32561.000000</td>\n",
       "      <td>3.256100e+04</td>\n",
       "      <td>32561.000000</td>\n",
       "      <td>32561.000000</td>\n",
       "      <td>32561.000000</td>\n",
       "      <td>32561.000000</td>\n",
       "    </tr>\n",
       "    <tr>\n",
       "      <th>mean</th>\n",
       "      <td>38.581647</td>\n",
       "      <td>1.897784e+05</td>\n",
       "      <td>10.080679</td>\n",
       "      <td>1077.648844</td>\n",
       "      <td>87.303830</td>\n",
       "      <td>40.437456</td>\n",
       "    </tr>\n",
       "    <tr>\n",
       "      <th>std</th>\n",
       "      <td>13.640433</td>\n",
       "      <td>1.055500e+05</td>\n",
       "      <td>2.572720</td>\n",
       "      <td>7385.292085</td>\n",
       "      <td>402.960219</td>\n",
       "      <td>12.347429</td>\n",
       "    </tr>\n",
       "    <tr>\n",
       "      <th>min</th>\n",
       "      <td>17.000000</td>\n",
       "      <td>1.228500e+04</td>\n",
       "      <td>1.000000</td>\n",
       "      <td>0.000000</td>\n",
       "      <td>0.000000</td>\n",
       "      <td>1.000000</td>\n",
       "    </tr>\n",
       "    <tr>\n",
       "      <th>25%</th>\n",
       "      <td>28.000000</td>\n",
       "      <td>1.178270e+05</td>\n",
       "      <td>9.000000</td>\n",
       "      <td>0.000000</td>\n",
       "      <td>0.000000</td>\n",
       "      <td>40.000000</td>\n",
       "    </tr>\n",
       "    <tr>\n",
       "      <th>50%</th>\n",
       "      <td>37.000000</td>\n",
       "      <td>1.783560e+05</td>\n",
       "      <td>10.000000</td>\n",
       "      <td>0.000000</td>\n",
       "      <td>0.000000</td>\n",
       "      <td>40.000000</td>\n",
       "    </tr>\n",
       "    <tr>\n",
       "      <th>75%</th>\n",
       "      <td>48.000000</td>\n",
       "      <td>2.370510e+05</td>\n",
       "      <td>12.000000</td>\n",
       "      <td>0.000000</td>\n",
       "      <td>0.000000</td>\n",
       "      <td>45.000000</td>\n",
       "    </tr>\n",
       "    <tr>\n",
       "      <th>max</th>\n",
       "      <td>90.000000</td>\n",
       "      <td>1.484705e+06</td>\n",
       "      <td>16.000000</td>\n",
       "      <td>99999.000000</td>\n",
       "      <td>4356.000000</td>\n",
       "      <td>99.000000</td>\n",
       "    </tr>\n",
       "  </tbody>\n",
       "</table>\n",
       "</div>"
      ],
      "text/plain": [
       "                age        fnlwgt  education.num  capital.gain  capital.loss  \\\n",
       "count  32561.000000  3.256100e+04   32561.000000  32561.000000  32561.000000   \n",
       "mean      38.581647  1.897784e+05      10.080679   1077.648844     87.303830   \n",
       "std       13.640433  1.055500e+05       2.572720   7385.292085    402.960219   \n",
       "min       17.000000  1.228500e+04       1.000000      0.000000      0.000000   \n",
       "25%       28.000000  1.178270e+05       9.000000      0.000000      0.000000   \n",
       "50%       37.000000  1.783560e+05      10.000000      0.000000      0.000000   \n",
       "75%       48.000000  2.370510e+05      12.000000      0.000000      0.000000   \n",
       "max       90.000000  1.484705e+06      16.000000  99999.000000   4356.000000   \n",
       "\n",
       "       hours.per.week  \n",
       "count    32561.000000  \n",
       "mean        40.437456  \n",
       "std         12.347429  \n",
       "min          1.000000  \n",
       "25%         40.000000  \n",
       "50%         40.000000  \n",
       "75%         45.000000  \n",
       "max         99.000000  "
      ]
     },
     "execution_count": 9,
     "metadata": {},
     "output_type": "execute_result"
    }
   ],
   "source": [
    "data_income.describe()"
   ]
  },
  {
   "cell_type": "code",
   "execution_count": 10,
   "id": "zTnuTue32go3",
   "metadata": {
    "colab": {
     "base_uri": "https://localhost:8080/",
     "height": 296
    },
    "id": "zTnuTue32go3",
    "outputId": "69d44299-2115-4f31-d71b-72218f44daf4"
   },
   "outputs": [
    {
     "data": {
      "text/plain": [
       "Text(0.5, 0, 'age')"
      ]
     },
     "execution_count": 10,
     "metadata": {},
     "output_type": "execute_result"
    },
    {
     "data": {
      "image/png": "[encoded data removed]",
      "text/plain": [
       "<Figure size 432x288 with 1 Axes>"
      ]
     },
     "metadata": {
      "needs_background": "light"
     },
     "output_type": "display_data"
    }
   ],
   "source": [
    "data_income.age.plot.hist(bins=46)\n",
    "plt.xlabel(\"age\")"
   ]
  },
  {
   "cell_type": "code",
   "execution_count": 11,
   "id": "tDk6VSH82gub",
   "metadata": {
    "colab": {
     "base_uri": "https://localhost:8080/",
     "height": 282
    },
    "id": "tDk6VSH82gub",
    "outputId": "28bef9fa-1cff-4500-be92-83298dd96a28"
   },
   "outputs": [
    {
     "data": {
      "text/plain": [
       "<AxesSubplot:>"
      ]
     },
     "execution_count": 11,
     "metadata": {},
     "output_type": "execute_result"
    },
    {
     "data": {
      "image/png": "[encoded data removed]",
      "text/plain": [
       "<Figure size 432x288 with 1 Axes>"
      ]
     },
     "metadata": {
      "needs_background": "light"
     },
     "output_type": "display_data"
    }
   ],
   "source": [
    "data_income.income.value_counts().plot(kind='barh')"
   ]
  },
  {
   "cell_type": "code",
   "execution_count": 12,
   "id": "KXFVCVA42gg4",
   "metadata": {
    "colab": {
     "base_uri": "https://localhost:8080/",
     "height": 326
    },
    "id": "KXFVCVA42gg4",
    "outputId": "c82661a6-7a18-4058-b1ad-7fef47675367"
   },
   "outputs": [
    {
     "data": {
      "text/plain": [
       "<AxesSubplot:xlabel='income'>"
      ]
     },
     "execution_count": 12,
     "metadata": {},
     "output_type": "execute_result"
    },
    {
     "data": {
      "image/png": "[encoded data removed]",
      "text/plain": [
       "<Figure size 432x288 with 1 Axes>"
      ]
     },
     "metadata": {
      "needs_background": "light"
     },
     "output_type": "display_data"
    }
   ],
   "source": [
    "data_income.groupby(['race','income'])['race'].count().unstack(0).plot.bar()"
   ]
  },
  {
   "cell_type": "code",
   "execution_count": 13,
   "id": "e0d09752",
   "metadata": {
    "colab": {
     "base_uri": "https://localhost:8080/"
    },
    "id": "e0d09752",
    "outputId": "3df63584-0394-4a64-e1bd-a75a82fc8844"
   },
   "outputs": [
    {
     "name": "stdout",
     "output_type": "stream",
     "text": [
      "Shape of Dataset is (32561, 15)\n"
     ]
    }
   ],
   "source": [
    "print(\"Shape of Dataset is\", data_income.shape)"
   ]
  },
  {
   "cell_type": "code",
   "execution_count": 14,
   "id": "c5e15fc8",
   "metadata": {
    "colab": {
     "base_uri": "https://localhost:8080/"
    },
    "id": "c5e15fc8",
    "outputId": "84a59a82-80af-4ca4-e905-df9c433fdd4d"
   },
   "outputs": [
    {
     "data": {
      "text/plain": [
       "age               False\n",
       "workclass         False\n",
       "fnlwgt            False\n",
       "education         False\n",
       "education.num     False\n",
       "marital.status    False\n",
       "occupation        False\n",
       "relationship      False\n",
       "race              False\n",
       "sex               False\n",
       "capital.gain      False\n",
       "capital.loss      False\n",
       "hours.per.week    False\n",
       "native.country    False\n",
       "income            False\n",
       "dtype: bool"
      ]
     },
     "execution_count": 14,
     "metadata": {},
     "output_type": "execute_result"
    }
   ],
   "source": [
    "data_income.isnull().any()"
   ]
  },
  {
   "cell_type": "code",
   "execution_count": 17,
   "id": "gQS6cjycoqkq",
   "metadata": {
    "colab": {
     "base_uri": "https://localhost:8080/"
    },
    "id": "gQS6cjycoqkq",
    "outputId": "5d1c78b8-cb13-492a-a814-68231f8c7352"
   },
   "outputs": [
    {
     "data": {
      "text/plain": [
       "[]"
      ]
     },
     "execution_count": 17,
     "metadata": {},
     "output_type": "execute_result"
    }
   ],
   "source": [
    "#the empty list signifies that there is no null values in the datset\n",
    "missing = [var for var in data_income.columns if data_income[var].isnull().mean() >0 ]\n",
    "missing"
   ]
  },
  {
   "cell_type": "code",
   "execution_count": 18,
   "id": "ec16a4f9",
   "metadata": {
    "id": "ec16a4f9"
   },
   "outputs": [],
   "source": [
    "# cleaning special character from data\n",
    "features = ['age','workclass', 'fnlwgt','education','education.num','marital.status','occupation', 'relationship','race','sex','capital.gain','capital.loss','hours.per.week','native.country','income']\n",
    "for feature in features:\n",
    "    data_income[feature].fillna(data_income[feature].mode()[0],inplace=True) #cleaning NaNs\n",
    "    data_income.drop(data_income.index[data_income[feature] == '?'], inplace=True)\n",
    "    data.drop(data.index[data['sex'] == '.'], inplace=True)"
   ]
  },
  {
   "cell_type": "code",
   "execution_count": 19,
   "id": "94c31fd8",
   "metadata": {
    "colab": {
     "base_uri": "https://localhost:8080/",
     "height": 542
    },
    "id": "94c31fd8",
    "outputId": "ca22467a-84df-4d13-84a6-f031a31c7d4b"
   },
   "outputs": [
    {
     "data": {
      "text/html": [
       "<div>\n",
       "<style scoped>\n",
       "    .dataframe tbody tr th:only-of-type {\n",
       "        vertical-align: middle;\n",
       "    }\n",
       "\n",
       "    .dataframe tbody tr th {\n",
       "        vertical-align: top;\n",
       "    }\n",
       "\n",
       "    .dataframe thead th {\n",
       "        text-align: right;\n",
       "    }\n",
       "</style>\n",
       "<table border=\"1\" class=\"dataframe\">\n",
       "  <thead>\n",
       "    <tr style=\"text-align: right;\">\n",
       "      <th></th>\n",
       "      <th>age</th>\n",
       "      <th>workclass</th>\n",
       "      <th>fnlwgt</th>\n",
       "      <th>education</th>\n",
       "      <th>education.num</th>\n",
       "      <th>marital.status</th>\n",
       "      <th>occupation</th>\n",
       "      <th>relationship</th>\n",
       "      <th>race</th>\n",
       "      <th>sex</th>\n",
       "      <th>capital.gain</th>\n",
       "      <th>capital.loss</th>\n",
       "      <th>hours.per.week</th>\n",
       "      <th>native.country</th>\n",
       "      <th>income</th>\n",
       "    </tr>\n",
       "  </thead>\n",
       "  <tbody>\n",
       "    <tr>\n",
       "      <th>1</th>\n",
       "      <td>82</td>\n",
       "      <td>Private</td>\n",
       "      <td>132870</td>\n",
       "      <td>HS-grad</td>\n",
       "      <td>9</td>\n",
       "      <td>Widowed</td>\n",
       "      <td>Exec-managerial</td>\n",
       "      <td>Not-in-family</td>\n",
       "      <td>White</td>\n",
       "      <td>Female</td>\n",
       "      <td>0</td>\n",
       "      <td>4356</td>\n",
       "      <td>18</td>\n",
       "      <td>United-States</td>\n",
       "      <td>&lt;=50K</td>\n",
       "    </tr>\n",
       "    <tr>\n",
       "      <th>3</th>\n",
       "      <td>54</td>\n",
       "      <td>Private</td>\n",
       "      <td>140359</td>\n",
       "      <td>7th-8th</td>\n",
       "      <td>4</td>\n",
       "      <td>Divorced</td>\n",
       "      <td>Machine-op-inspct</td>\n",
       "      <td>Unmarried</td>\n",
       "      <td>White</td>\n",
       "      <td>Female</td>\n",
       "      <td>0</td>\n",
       "      <td>3900</td>\n",
       "      <td>40</td>\n",
       "      <td>United-States</td>\n",
       "      <td>&lt;=50K</td>\n",
       "    </tr>\n",
       "    <tr>\n",
       "      <th>4</th>\n",
       "      <td>41</td>\n",
       "      <td>Private</td>\n",
       "      <td>264663</td>\n",
       "      <td>Some-college</td>\n",
       "      <td>10</td>\n",
       "      <td>Separated</td>\n",
       "      <td>Prof-specialty</td>\n",
       "      <td>Own-child</td>\n",
       "      <td>White</td>\n",
       "      <td>Female</td>\n",
       "      <td>0</td>\n",
       "      <td>3900</td>\n",
       "      <td>40</td>\n",
       "      <td>United-States</td>\n",
       "      <td>&lt;=50K</td>\n",
       "    </tr>\n",
       "    <tr>\n",
       "      <th>5</th>\n",
       "      <td>34</td>\n",
       "      <td>Private</td>\n",
       "      <td>216864</td>\n",
       "      <td>HS-grad</td>\n",
       "      <td>9</td>\n",
       "      <td>Divorced</td>\n",
       "      <td>Other-service</td>\n",
       "      <td>Unmarried</td>\n",
       "      <td>White</td>\n",
       "      <td>Female</td>\n",
       "      <td>0</td>\n",
       "      <td>3770</td>\n",
       "      <td>45</td>\n",
       "      <td>United-States</td>\n",
       "      <td>&lt;=50K</td>\n",
       "    </tr>\n",
       "    <tr>\n",
       "      <th>6</th>\n",
       "      <td>38</td>\n",
       "      <td>Private</td>\n",
       "      <td>150601</td>\n",
       "      <td>10th</td>\n",
       "      <td>6</td>\n",
       "      <td>Separated</td>\n",
       "      <td>Adm-clerical</td>\n",
       "      <td>Unmarried</td>\n",
       "      <td>White</td>\n",
       "      <td>Male</td>\n",
       "      <td>0</td>\n",
       "      <td>3770</td>\n",
       "      <td>40</td>\n",
       "      <td>United-States</td>\n",
       "      <td>&lt;=50K</td>\n",
       "    </tr>\n",
       "    <tr>\n",
       "      <th>7</th>\n",
       "      <td>74</td>\n",
       "      <td>State-gov</td>\n",
       "      <td>88638</td>\n",
       "      <td>Doctorate</td>\n",
       "      <td>16</td>\n",
       "      <td>Never-married</td>\n",
       "      <td>Prof-specialty</td>\n",
       "      <td>Other-relative</td>\n",
       "      <td>White</td>\n",
       "      <td>Female</td>\n",
       "      <td>0</td>\n",
       "      <td>3683</td>\n",
       "      <td>20</td>\n",
       "      <td>United-States</td>\n",
       "      <td>&gt;50K</td>\n",
       "    </tr>\n",
       "    <tr>\n",
       "      <th>8</th>\n",
       "      <td>68</td>\n",
       "      <td>Federal-gov</td>\n",
       "      <td>422013</td>\n",
       "      <td>HS-grad</td>\n",
       "      <td>9</td>\n",
       "      <td>Divorced</td>\n",
       "      <td>Prof-specialty</td>\n",
       "      <td>Not-in-family</td>\n",
       "      <td>White</td>\n",
       "      <td>Female</td>\n",
       "      <td>0</td>\n",
       "      <td>3683</td>\n",
       "      <td>40</td>\n",
       "      <td>United-States</td>\n",
       "      <td>&lt;=50K</td>\n",
       "    </tr>\n",
       "    <tr>\n",
       "      <th>10</th>\n",
       "      <td>45</td>\n",
       "      <td>Private</td>\n",
       "      <td>172274</td>\n",
       "      <td>Doctorate</td>\n",
       "      <td>16</td>\n",
       "      <td>Divorced</td>\n",
       "      <td>Prof-specialty</td>\n",
       "      <td>Unmarried</td>\n",
       "      <td>Black</td>\n",
       "      <td>Female</td>\n",
       "      <td>0</td>\n",
       "      <td>3004</td>\n",
       "      <td>35</td>\n",
       "      <td>United-States</td>\n",
       "      <td>&gt;50K</td>\n",
       "    </tr>\n",
       "    <tr>\n",
       "      <th>11</th>\n",
       "      <td>38</td>\n",
       "      <td>Self-emp-not-inc</td>\n",
       "      <td>164526</td>\n",
       "      <td>Prof-school</td>\n",
       "      <td>15</td>\n",
       "      <td>Never-married</td>\n",
       "      <td>Prof-specialty</td>\n",
       "      <td>Not-in-family</td>\n",
       "      <td>White</td>\n",
       "      <td>Male</td>\n",
       "      <td>0</td>\n",
       "      <td>2824</td>\n",
       "      <td>45</td>\n",
       "      <td>United-States</td>\n",
       "      <td>&gt;50K</td>\n",
       "    </tr>\n",
       "    <tr>\n",
       "      <th>12</th>\n",
       "      <td>52</td>\n",
       "      <td>Private</td>\n",
       "      <td>129177</td>\n",
       "      <td>Bachelors</td>\n",
       "      <td>13</td>\n",
       "      <td>Widowed</td>\n",
       "      <td>Other-service</td>\n",
       "      <td>Not-in-family</td>\n",
       "      <td>White</td>\n",
       "      <td>Female</td>\n",
       "      <td>0</td>\n",
       "      <td>2824</td>\n",
       "      <td>20</td>\n",
       "      <td>United-States</td>\n",
       "      <td>&gt;50K</td>\n",
       "    </tr>\n",
       "  </tbody>\n",
       "</table>\n",
       "</div>"
      ],
      "text/plain": [
       "    age         workclass  fnlwgt     education  education.num marital.status  \\\n",
       "1    82           Private  132870       HS-grad              9        Widowed   \n",
       "3    54           Private  140359       7th-8th              4       Divorced   \n",
       "4    41           Private  264663  Some-college             10      Separated   \n",
       "5    34           Private  216864       HS-grad              9       Divorced   \n",
       "6    38           Private  150601          10th              6      Separated   \n",
       "7    74         State-gov   88638     Doctorate             16  Never-married   \n",
       "8    68       Federal-gov  422013       HS-grad              9       Divorced   \n",
       "10   45           Private  172274     Doctorate             16       Divorced   \n",
       "11   38  Self-emp-not-inc  164526   Prof-school             15  Never-married   \n",
       "12   52           Private  129177     Bachelors             13        Widowed   \n",
       "\n",
       "           occupation    relationship   race     sex  capital.gain  \\\n",
       "1     Exec-managerial   Not-in-family  White  Female             0   \n",
       "3   Machine-op-inspct       Unmarried  White  Female             0   \n",
       "4      Prof-specialty       Own-child  White  Female             0   \n",
       "5       Other-service       Unmarried  White  Female             0   \n",
       "6        Adm-clerical       Unmarried  White    Male             0   \n",
       "7      Prof-specialty  Other-relative  White  Female             0   \n",
       "8      Prof-specialty   Not-in-family  White  Female             0   \n",
       "10     Prof-specialty       Unmarried  Black  Female             0   \n",
       "11     Prof-specialty   Not-in-family  White    Male             0   \n",
       "12      Other-service   Not-in-family  White  Female             0   \n",
       "\n",
       "    capital.loss  hours.per.week native.country income  \n",
       "1           4356              18  United-States  <=50K  \n",
       "3           3900              40  United-States  <=50K  \n",
       "4           3900              40  United-States  <=50K  \n",
       "5           3770              45  United-States  <=50K  \n",
       "6           3770              40  United-States  <=50K  \n",
       "7           3683              20  United-States   >50K  \n",
       "8           3683              40  United-States  <=50K  \n",
       "10          3004              35  United-States   >50K  \n",
       "11          2824              45  United-States   >50K  \n",
       "12          2824              20  United-States   >50K  "
      ]
     },
     "execution_count": 19,
     "metadata": {},
     "output_type": "execute_result"
    }
   ],
   "source": [
    "data_income.head(10)"
   ]
  },
  {
   "cell_type": "code",
   "execution_count": 20,
   "id": "96b4e5bc",
   "metadata": {
    "colab": {
     "base_uri": "https://localhost:8080/"
    },
    "id": "96b4e5bc",
    "outputId": "fd03cb07-1a65-4004-8003-f12a42a30042"
   },
   "outputs": [
    {
     "data": {
      "text/plain": [
       "age                int64\n",
       "workclass         object\n",
       "fnlwgt             int64\n",
       "education         object\n",
       "education.num      int64\n",
       "marital.status    object\n",
       "occupation        object\n",
       "relationship      object\n",
       "race              object\n",
       "sex               object\n",
       "capital.gain       int64\n",
       "capital.loss       int64\n",
       "hours.per.week     int64\n",
       "native.country    object\n",
       "income            object\n",
       "dtype: object"
      ]
     },
     "execution_count": 20,
     "metadata": {},
     "output_type": "execute_result"
    }
   ],
   "source": [
    "data_income.dtypes"
   ]
  },
  {
   "cell_type": "code",
   "execution_count": 21,
   "id": "bdb6bb52",
   "metadata": {
    "colab": {
     "base_uri": "https://localhost:8080/"
    },
    "id": "bdb6bb52",
    "outputId": "400f1f41-50af-4a86-a417-5df0b4f68528"
   },
   "outputs": [
    {
     "name": "stdout",
     "output_type": "stream",
     "text": [
      "Feature 'workclass' has 7 unique categories\n",
      "Feature 'education' has 16 unique categories\n",
      "Feature 'marital.status' has 7 unique categories\n",
      "Feature 'occupation' has 14 unique categories\n",
      "Feature 'relationship' has 6 unique categories\n",
      "Feature 'race' has 5 unique categories\n",
      "Feature 'sex' has 2 unique categories\n",
      "Feature 'native.country' has 41 unique categories\n",
      "Feature 'income' has 2 unique categories\n"
     ]
    }
   ],
   "source": [
    "for col_name in data_income.columns:\n",
    "    if data_income[col_name].dtypes == 'object':\n",
    "        data_income[col_name] = data_income[col_name].astype('category') #Converting string datatypes into categorical\n",
    "        unique_count = len(data_income[col_name].unique()) #find unique values in categorical values\n",
    "        print(\"Feature '{col_name}' has {unique_count} unique categories\".format(col_name=col_name, unique_count=unique_count))"
   ]
  },
  {
   "cell_type": "code",
   "execution_count": 22,
   "id": "d57f159c",
   "metadata": {
    "colab": {
     "base_uri": "https://localhost:8080/"
    },
    "id": "d57f159c",
    "outputId": "8d7dc497-3cd5-4e45-f344-7222071310e0"
   },
   "outputs": [
    {
     "data": {
      "text/plain": [
       "age                  int64\n",
       "workclass         category\n",
       "fnlwgt               int64\n",
       "education         category\n",
       "education.num        int64\n",
       "marital.status    category\n",
       "occupation        category\n",
       "relationship      category\n",
       "race              category\n",
       "sex               category\n",
       "capital.gain         int64\n",
       "capital.loss         int64\n",
       "hours.per.week       int64\n",
       "native.country    category\n",
       "income            category\n",
       "dtype: object"
      ]
     },
     "execution_count": 22,
     "metadata": {},
     "output_type": "execute_result"
    }
   ],
   "source": [
    "# Check the updated datatypes\n",
    "data_income.dtypes"
   ]
  },
  {
   "cell_type": "code",
   "execution_count": 23,
   "id": "ed88e096",
   "metadata": {
    "colab": {
     "base_uri": "https://localhost:8080/",
     "height": 585
    },
    "id": "ed88e096",
    "outputId": "021435a0-7f2f-4302-88e3-5fa9de27aba8"
   },
   "outputs": [
    {
     "data": {
      "text/html": [
       "<div>\n",
       "<style scoped>\n",
       "    .dataframe tbody tr th:only-of-type {\n",
       "        vertical-align: middle;\n",
       "    }\n",
       "\n",
       "    .dataframe tbody tr th {\n",
       "        vertical-align: top;\n",
       "    }\n",
       "\n",
       "    .dataframe thead th {\n",
       "        text-align: right;\n",
       "    }\n",
       "</style>\n",
       "<table border=\"1\" class=\"dataframe\">\n",
       "  <thead>\n",
       "    <tr style=\"text-align: right;\">\n",
       "      <th></th>\n",
       "      <th>age</th>\n",
       "      <th>workclass</th>\n",
       "      <th>fnlwgt</th>\n",
       "      <th>education</th>\n",
       "      <th>education.num</th>\n",
       "      <th>marital.status</th>\n",
       "      <th>occupation</th>\n",
       "      <th>relationship</th>\n",
       "      <th>race</th>\n",
       "      <th>sex</th>\n",
       "      <th>capital.gain</th>\n",
       "      <th>capital.loss</th>\n",
       "      <th>hours.per.week</th>\n",
       "      <th>native.country</th>\n",
       "      <th>income</th>\n",
       "    </tr>\n",
       "  </thead>\n",
       "  <tbody>\n",
       "    <tr>\n",
       "      <th>1</th>\n",
       "      <td>82</td>\n",
       "      <td>Private</td>\n",
       "      <td>132870</td>\n",
       "      <td>HS-grad</td>\n",
       "      <td>9</td>\n",
       "      <td>Widowed</td>\n",
       "      <td>Exec-managerial</td>\n",
       "      <td>Not-in-family</td>\n",
       "      <td>White</td>\n",
       "      <td>Female</td>\n",
       "      <td>0</td>\n",
       "      <td>4356</td>\n",
       "      <td>18</td>\n",
       "      <td>United-States</td>\n",
       "      <td>&lt;=50K</td>\n",
       "    </tr>\n",
       "    <tr>\n",
       "      <th>3</th>\n",
       "      <td>54</td>\n",
       "      <td>Private</td>\n",
       "      <td>140359</td>\n",
       "      <td>7th-8th</td>\n",
       "      <td>4</td>\n",
       "      <td>Divorced</td>\n",
       "      <td>Machine-op-inspct</td>\n",
       "      <td>Unmarried</td>\n",
       "      <td>White</td>\n",
       "      <td>Female</td>\n",
       "      <td>0</td>\n",
       "      <td>3900</td>\n",
       "      <td>40</td>\n",
       "      <td>United-States</td>\n",
       "      <td>&lt;=50K</td>\n",
       "    </tr>\n",
       "    <tr>\n",
       "      <th>4</th>\n",
       "      <td>41</td>\n",
       "      <td>Private</td>\n",
       "      <td>264663</td>\n",
       "      <td>Some-college</td>\n",
       "      <td>10</td>\n",
       "      <td>Separated</td>\n",
       "      <td>Prof-specialty</td>\n",
       "      <td>Own-child</td>\n",
       "      <td>White</td>\n",
       "      <td>Female</td>\n",
       "      <td>0</td>\n",
       "      <td>3900</td>\n",
       "      <td>40</td>\n",
       "      <td>United-States</td>\n",
       "      <td>&lt;=50K</td>\n",
       "    </tr>\n",
       "    <tr>\n",
       "      <th>5</th>\n",
       "      <td>34</td>\n",
       "      <td>Private</td>\n",
       "      <td>216864</td>\n",
       "      <td>HS-grad</td>\n",
       "      <td>9</td>\n",
       "      <td>Divorced</td>\n",
       "      <td>Other-service</td>\n",
       "      <td>Unmarried</td>\n",
       "      <td>White</td>\n",
       "      <td>Female</td>\n",
       "      <td>0</td>\n",
       "      <td>3770</td>\n",
       "      <td>45</td>\n",
       "      <td>United-States</td>\n",
       "      <td>&lt;=50K</td>\n",
       "    </tr>\n",
       "    <tr>\n",
       "      <th>6</th>\n",
       "      <td>38</td>\n",
       "      <td>Private</td>\n",
       "      <td>150601</td>\n",
       "      <td>10th</td>\n",
       "      <td>6</td>\n",
       "      <td>Separated</td>\n",
       "      <td>Adm-clerical</td>\n",
       "      <td>Unmarried</td>\n",
       "      <td>White</td>\n",
       "      <td>Male</td>\n",
       "      <td>0</td>\n",
       "      <td>3770</td>\n",
       "      <td>40</td>\n",
       "      <td>United-States</td>\n",
       "      <td>&lt;=50K</td>\n",
       "    </tr>\n",
       "    <tr>\n",
       "      <th>...</th>\n",
       "      <td>...</td>\n",
       "      <td>...</td>\n",
       "      <td>...</td>\n",
       "      <td>...</td>\n",
       "      <td>...</td>\n",
       "      <td>...</td>\n",
       "      <td>...</td>\n",
       "      <td>...</td>\n",
       "      <td>...</td>\n",
       "      <td>...</td>\n",
       "      <td>...</td>\n",
       "      <td>...</td>\n",
       "      <td>...</td>\n",
       "      <td>...</td>\n",
       "      <td>...</td>\n",
       "    </tr>\n",
       "    <tr>\n",
       "      <th>32556</th>\n",
       "      <td>22</td>\n",
       "      <td>Private</td>\n",
       "      <td>310152</td>\n",
       "      <td>Some-college</td>\n",
       "      <td>10</td>\n",
       "      <td>Never-married</td>\n",
       "      <td>Protective-serv</td>\n",
       "      <td>Not-in-family</td>\n",
       "      <td>White</td>\n",
       "      <td>Male</td>\n",
       "      <td>0</td>\n",
       "      <td>0</td>\n",
       "      <td>40</td>\n",
       "      <td>United-States</td>\n",
       "      <td>&lt;=50K</td>\n",
       "    </tr>\n",
       "    <tr>\n",
       "      <th>32557</th>\n",
       "      <td>27</td>\n",
       "      <td>Private</td>\n",
       "      <td>257302</td>\n",
       "      <td>Assoc-acdm</td>\n",
       "      <td>12</td>\n",
       "      <td>Married-civ-spouse</td>\n",
       "      <td>Tech-support</td>\n",
       "      <td>Wife</td>\n",
       "      <td>White</td>\n",
       "      <td>Female</td>\n",
       "      <td>0</td>\n",
       "      <td>0</td>\n",
       "      <td>38</td>\n",
       "      <td>United-States</td>\n",
       "      <td>&lt;=50K</td>\n",
       "    </tr>\n",
       "    <tr>\n",
       "      <th>32558</th>\n",
       "      <td>40</td>\n",
       "      <td>Private</td>\n",
       "      <td>154374</td>\n",
       "      <td>HS-grad</td>\n",
       "      <td>9</td>\n",
       "      <td>Married-civ-spouse</td>\n",
       "      <td>Machine-op-inspct</td>\n",
       "      <td>Husband</td>\n",
       "      <td>White</td>\n",
       "      <td>Male</td>\n",
       "      <td>0</td>\n",
       "      <td>0</td>\n",
       "      <td>40</td>\n",
       "      <td>United-States</td>\n",
       "      <td>&gt;50K</td>\n",
       "    </tr>\n",
       "    <tr>\n",
       "      <th>32559</th>\n",
       "      <td>58</td>\n",
       "      <td>Private</td>\n",
       "      <td>151910</td>\n",
       "      <td>HS-grad</td>\n",
       "      <td>9</td>\n",
       "      <td>Widowed</td>\n",
       "      <td>Adm-clerical</td>\n",
       "      <td>Unmarried</td>\n",
       "      <td>White</td>\n",
       "      <td>Female</td>\n",
       "      <td>0</td>\n",
       "      <td>0</td>\n",
       "      <td>40</td>\n",
       "      <td>United-States</td>\n",
       "      <td>&lt;=50K</td>\n",
       "    </tr>\n",
       "    <tr>\n",
       "      <th>32560</th>\n",
       "      <td>22</td>\n",
       "      <td>Private</td>\n",
       "      <td>201490</td>\n",
       "      <td>HS-grad</td>\n",
       "      <td>9</td>\n",
       "      <td>Never-married</td>\n",
       "      <td>Adm-clerical</td>\n",
       "      <td>Own-child</td>\n",
       "      <td>White</td>\n",
       "      <td>Male</td>\n",
       "      <td>0</td>\n",
       "      <td>0</td>\n",
       "      <td>20</td>\n",
       "      <td>United-States</td>\n",
       "      <td>&lt;=50K</td>\n",
       "    </tr>\n",
       "  </tbody>\n",
       "</table>\n",
       "<p>30162 rows × 15 columns</p>\n",
       "</div>"
      ],
      "text/plain": [
       "       age workclass  fnlwgt     education  education.num      marital.status  \\\n",
       "1       82   Private  132870       HS-grad              9             Widowed   \n",
       "3       54   Private  140359       7th-8th              4            Divorced   \n",
       "4       41   Private  264663  Some-college             10           Separated   \n",
       "5       34   Private  216864       HS-grad              9            Divorced   \n",
       "6       38   Private  150601          10th              6           Separated   \n",
       "...    ...       ...     ...           ...            ...                 ...   \n",
       "32556   22   Private  310152  Some-college             10       Never-married   \n",
       "32557   27   Private  257302    Assoc-acdm             12  Married-civ-spouse   \n",
       "32558   40   Private  154374       HS-grad              9  Married-civ-spouse   \n",
       "32559   58   Private  151910       HS-grad              9             Widowed   \n",
       "32560   22   Private  201490       HS-grad              9       Never-married   \n",
       "\n",
       "              occupation   relationship   race     sex  capital.gain  \\\n",
       "1        Exec-managerial  Not-in-family  White  Female             0   \n",
       "3      Machine-op-inspct      Unmarried  White  Female             0   \n",
       "4         Prof-specialty      Own-child  White  Female             0   \n",
       "5          Other-service      Unmarried  White  Female             0   \n",
       "6           Adm-clerical      Unmarried  White    Male             0   \n",
       "...                  ...            ...    ...     ...           ...   \n",
       "32556    Protective-serv  Not-in-family  White    Male             0   \n",
       "32557       Tech-support           Wife  White  Female             0   \n",
       "32558  Machine-op-inspct        Husband  White    Male             0   \n",
       "32559       Adm-clerical      Unmarried  White  Female             0   \n",
       "32560       Adm-clerical      Own-child  White    Male             0   \n",
       "\n",
       "       capital.loss  hours.per.week native.country income  \n",
       "1              4356              18  United-States  <=50K  \n",
       "3              3900              40  United-States  <=50K  \n",
       "4              3900              40  United-States  <=50K  \n",
       "5              3770              45  United-States  <=50K  \n",
       "6              3770              40  United-States  <=50K  \n",
       "...             ...             ...            ...    ...  \n",
       "32556             0              40  United-States  <=50K  \n",
       "32557             0              38  United-States  <=50K  \n",
       "32558             0              40  United-States   >50K  \n",
       "32559             0              40  United-States  <=50K  \n",
       "32560             0              20  United-States  <=50K  \n",
       "\n",
       "[30162 rows x 15 columns]"
      ]
     },
     "execution_count": 23,
     "metadata": {},
     "output_type": "execute_result"
    }
   ],
   "source": [
    "data_income"
   ]
  },
  {
   "cell_type": "code",
   "execution_count": 24,
   "id": "QRNg9CccpJBr",
   "metadata": {
    "colab": {
     "base_uri": "https://localhost:8080/"
    },
    "id": "QRNg9CccpJBr",
    "outputId": "6b58af32-c196-4c16-934b-121d65915420"
   },
   "outputs": [
    {
     "name": "stdout",
     "output_type": "stream",
     "text": [
      "<class 'pandas.core.frame.DataFrame'>\n",
      "Int64Index: 30162 entries, 1 to 32560\n",
      "Data columns (total 15 columns):\n",
      " #   Column          Non-Null Count  Dtype   \n",
      "---  ------          --------------  -----   \n",
      " 0   age             30162 non-null  int64   \n",
      " 1   workclass       30162 non-null  category\n",
      " 2   fnlwgt          30162 non-null  int64   \n",
      " 3   education       30162 non-null  category\n",
      " 4   education.num   30162 non-null  int64   \n",
      " 5   marital.status  30162 non-null  category\n",
      " 6   occupation      30162 non-null  category\n",
      " 7   relationship    30162 non-null  category\n",
      " 8   race            30162 non-null  category\n",
      " 9   sex             30162 non-null  category\n",
      " 10  capital.gain    30162 non-null  int64   \n",
      " 11  capital.loss    30162 non-null  int64   \n",
      " 12  hours.per.week  30162 non-null  int64   \n",
      " 13  native.country  30162 non-null  category\n",
      " 14  income          30162 non-null  category\n",
      "dtypes: category(9), int64(6)\n",
      "memory usage: 2.9 MB\n"
     ]
    }
   ],
   "source": [
    "data_income.info()"
   ]
  },
  {
   "cell_type": "code",
   "execution_count": 25,
   "id": "WiKN1-eBG0C9",
   "metadata": {
    "colab": {
     "base_uri": "https://localhost:8080/"
    },
    "id": "WiKN1-eBG0C9",
    "outputId": "e4ea6093-c756-470b-8519-f0ab46f54e0a"
   },
   "outputs": [
    {
     "name": "stdout",
     "output_type": "stream",
     "text": [
      "United-States    27504\n",
      "Mexico             610\n",
      "Philippines        188\n",
      "Germany            128\n",
      "Puerto-Rico        109\n",
      "Canada             107\n",
      "El-Salvador        100\n",
      "India              100\n",
      "Cuba                92\n",
      "England             86\n",
      "Name: native_country, dtype: int64\n"
     ]
    }
   ],
   "source": [
    "#renaming column name and printing the frequency of each unique value in the column\n",
    "data_income.rename(columns = {'native.country':'native_country'}, inplace = True)\n",
    "print(data_income['native_country'].value_counts().sort_values(ascending=False).head(10))"
   ]
  },
  {
   "cell_type": "code",
   "execution_count": 26,
   "id": "RT8dQmqDG0TN",
   "metadata": {
    "colab": {
     "base_uri": "https://localhost:8080/"
    },
    "id": "RT8dQmqDG0TN",
    "outputId": "5a2a6b11-bf82-4ed4-f49a-15a8f15bfd26"
   },
   "outputs": [
    {
     "name": "stdout",
     "output_type": "stream",
     "text": [
      "United-States    27504\n",
      "Other             2658\n",
      "Name: native_country, dtype: int64\n"
     ]
    }
   ],
   "source": [
    "#majority is from United States, assuming the total sum of the remaining unique occurence to 'other'.\n",
    "data_income['native_country'] = ['United-States' if x == 'United-States' else 'Other' for x in data_income['native_country']]\n",
    "print(data_income['native_country'].value_counts().sort_values(ascending=False))"
   ]
  },
  {
   "cell_type": "code",
   "execution_count": 27,
   "id": "LSuyIZbEwYSa",
   "metadata": {
    "colab": {
     "base_uri": "https://localhost:8080/"
    },
    "id": "LSuyIZbEwYSa",
    "outputId": "25385c3b-002d-4d52-d2a7-f7387cbc8466"
   },
   "outputs": [
    {
     "data": {
      "text/plain": [
       "['Private', 'State-gov', 'Federal-gov', 'Self-emp-not-inc', 'Self-emp-inc', 'Local-gov', 'Without-pay']\n",
       "Categories (7, object): ['Federal-gov', 'Local-gov', 'Private', 'Self-emp-inc', 'Self-emp-not-inc', 'State-gov', 'Without-pay']"
      ]
     },
     "execution_count": 27,
     "metadata": {},
     "output_type": "execute_result"
    }
   ],
   "source": [
    "#printing unique data in 'workclass'\n",
    "data_income.workclass.unique()"
   ]
  },
  {
   "cell_type": "code",
   "execution_count": 28,
   "id": "ivYhE1r3pJYl",
   "metadata": {
    "colab": {
     "base_uri": "https://localhost:8080/"
    },
    "id": "ivYhE1r3pJYl",
    "outputId": "e05056c5-8d1e-456d-c806-3eee16d7d01a"
   },
   "outputs": [
    {
     "data": {
      "text/plain": [
       "['HS-grad', '7th-8th', 'Some-college', '10th', 'Doctorate', ..., '5th-6th', 'Assoc-acdm', '12th', '9th', 'Preschool']\n",
       "Length: 16\n",
       "Categories (16, object): ['10th', '11th', '12th', '1st-4th', ..., 'Masters', 'Preschool', 'Prof-school', 'Some-college']"
      ]
     },
     "execution_count": 28,
     "metadata": {},
     "output_type": "execute_result"
    }
   ],
   "source": [
    "#printing unique data in 'education'\n",
    "data_income.education.unique()"
   ]
  },
  {
   "cell_type": "code",
   "execution_count": 29,
   "id": "bMT6GwfnpJb3",
   "metadata": {
    "colab": {
     "base_uri": "https://localhost:8080/"
    },
    "id": "bMT6GwfnpJb3",
    "outputId": "542be1b3-b8c7-44f2-bbc1-35fd34635287"
   },
   "outputs": [
    {
     "data": {
      "text/plain": [
       "['Widowed', 'Divorced', 'Separated', 'Never-married', 'Married-civ-spouse', 'Married-spouse-absent', 'Married-AF-spouse']\n",
       "Categories (7, object): ['Divorced', 'Married-AF-spouse', 'Married-civ-spouse', 'Married-spouse-absent', 'Never-married', 'Separated', 'Widowed']"
      ]
     },
     "execution_count": 29,
     "metadata": {},
     "output_type": "execute_result"
    }
   ],
   "source": [
    "#printing unique data in 'marital_status'\n",
    "data_income.rename(columns = {'marital.status':'marital_status'}, inplace = True)\n",
    "data_income.marital_status.unique()"
   ]
  },
  {
   "cell_type": "code",
   "execution_count": 30,
   "id": "id_wvIbJ3sh-",
   "metadata": {
    "colab": {
     "base_uri": "https://localhost:8080/"
    },
    "id": "id_wvIbJ3sh-",
    "outputId": "5380cf12-9fc0-4d1b-9c43-ce6f1c7137c6"
   },
   "outputs": [
    {
     "data": {
      "text/plain": [
       "['Exec-managerial', 'Machine-op-inspct', 'Prof-specialty', 'Other-service', 'Adm-clerical', ..., 'Tech-support', 'Protective-serv', 'Handlers-cleaners', 'Armed-Forces', 'Priv-house-serv']\n",
       "Length: 14\n",
       "Categories (14, object): ['Adm-clerical', 'Armed-Forces', 'Craft-repair', 'Exec-managerial', ..., 'Protective-serv', 'Sales', 'Tech-support', 'Transport-moving']"
      ]
     },
     "execution_count": 30,
     "metadata": {},
     "output_type": "execute_result"
    }
   ],
   "source": [
    "#printing unique data in 'occupation'\n",
    "data_income.occupation.unique()"
   ]
  },
  {
   "cell_type": "code",
   "execution_count": 31,
   "id": "7swrebzt3stY",
   "metadata": {
    "colab": {
     "base_uri": "https://localhost:8080/"
    },
    "id": "7swrebzt3stY",
    "outputId": "9ebab8de-397e-40e0-fd22-445beb5707d5"
   },
   "outputs": [
    {
     "data": {
      "text/plain": [
       "['Not-in-family', 'Unmarried', 'Own-child', 'Other-relative', 'Husband', 'Wife']\n",
       "Categories (6, object): ['Husband', 'Not-in-family', 'Other-relative', 'Own-child', 'Unmarried', 'Wife']"
      ]
     },
     "execution_count": 31,
     "metadata": {},
     "output_type": "execute_result"
    }
   ],
   "source": [
    "#printing unique data in 'relationship'\n",
    "data_income.relationship.unique()"
   ]
  },
  {
   "cell_type": "code",
   "execution_count": 32,
   "id": "JEAHsH9e3sxR",
   "metadata": {
    "colab": {
     "base_uri": "https://localhost:8080/"
    },
    "id": "JEAHsH9e3sxR",
    "outputId": "5f177fad-31cb-4e6d-eea2-32d66be5bd9d"
   },
   "outputs": [
    {
     "data": {
      "text/plain": [
       "['White', 'Black', 'Asian-Pac-Islander', 'Other', 'Amer-Indian-Eskimo']\n",
       "Categories (5, object): ['Amer-Indian-Eskimo', 'Asian-Pac-Islander', 'Black', 'Other', 'White']"
      ]
     },
     "execution_count": 32,
     "metadata": {},
     "output_type": "execute_result"
    }
   ],
   "source": [
    "#printing unique data in 'race'\n",
    "data_income.race.unique()"
   ]
  },
  {
   "cell_type": "code",
   "execution_count": 33,
   "id": "ECsBJCd-3s08",
   "metadata": {
    "colab": {
     "base_uri": "https://localhost:8080/"
    },
    "id": "ECsBJCd-3s08",
    "outputId": "d5ae536a-d3a6-45ec-a916-6a4887cfa90c"
   },
   "outputs": [
    {
     "data": {
      "text/plain": [
       "['Female', 'Male']\n",
       "Categories (2, object): ['Female', 'Male']"
      ]
     },
     "execution_count": 33,
     "metadata": {},
     "output_type": "execute_result"
    }
   ],
   "source": [
    "#printing unique data in 'sex'\n",
    "data_income.sex.unique()"
   ]
  },
  {
   "cell_type": "code",
   "execution_count": 34,
   "id": "SIxVWTRG3s4q",
   "metadata": {
    "colab": {
     "base_uri": "https://localhost:8080/"
    },
    "id": "SIxVWTRG3s4q",
    "outputId": "4b5b403f-c368-4cfd-808c-3f94c8bdc511"
   },
   "outputs": [
    {
     "data": {
      "text/plain": [
       "['<=50K', '>50K']\n",
       "Categories (2, object): ['<=50K', '>50K']"
      ]
     },
     "execution_count": 34,
     "metadata": {},
     "output_type": "execute_result"
    }
   ],
   "source": [
    "#printing unique data in 'income'\n",
    "data_income.income.unique()"
   ]
  },
  {
   "cell_type": "code",
   "execution_count": 35,
   "id": "1wZzICNcExwD",
   "metadata": {
    "colab": {
     "base_uri": "https://localhost:8080/"
    },
    "id": "1wZzICNcExwD",
    "outputId": "7677fa53-edc2-4876-da7b-6a7255e0334f"
   },
   "outputs": [
    {
     "data": {
      "text/plain": [
       "array(['United-States', 'Other'], dtype=object)"
      ]
     },
     "execution_count": 35,
     "metadata": {},
     "output_type": "execute_result"
    }
   ],
   "source": [
    "#printing unique data in 'native_country'\n",
    "data_income.native_country.unique()"
   ]
  },
  {
   "cell_type": "code",
   "execution_count": 36,
   "id": "JKzBv5aq7lOQ",
   "metadata": {
    "id": "JKzBv5aq7lOQ"
   },
   "outputs": [],
   "source": [
    "#encoding numerical values to all the categorical variables\n",
    "new_data = data_income.copy()\n",
    "new_data['sex'].replace(['Female', 'Male'],[1,0], inplace=True)\n",
    "new_data['native_country'].replace(['United-States', 'Other'],[1,0], inplace=True)\n",
    "new_data['workclass'].replace(['Federal-gov', 'Local-gov', 'Private', 'Self-emp-inc', 'Self-emp-not-inc','State-gov', 'Without-pay'],\n",
    "                                  [7, 6, 5, 4, 3, 2, 1], inplace=True)\n",
    "new_data['marital_status'].replace(['Widowed', 'Divorced', 'Separated', 'Never-married', 'Married-civ-spouse', 'Married-spouse-absent', 'Married-AF-spouse'],\n",
    "                                   [7,6,5,4,3,2,1], inplace=True)\n",
    "new_data['race'].replace(['White', 'Black', 'Asian-Pac-Islander', 'Other', 'Amer-Indian-Eskimo'],\n",
    "                         [5,4,3,2,1], inplace=True)\n",
    "new_data['income'].replace(['<=50K', '>50K'],[0,1], inplace=True)\n",
    "new_data['relationship'].replace(['Not-in-family', 'Unmarried', 'Own-child', 'Other-relative', 'Husband', 'Wife'],\n",
    "                                 [6,5,4,3,2,1], inplace=True)\n",
    "new_data['education'].replace(['HS-grad', '7th-8th', 'Some-college', '10th', \n",
    "                               'Doctorate','5th-6th', 'Assoc-acdm', '12th', '9th', 'Preschool','Bachelors','Masters','Assoc-voc','1st-4th','11th','Prof-school'],\n",
    "                              [16,15,14,13,12,11,10,9,8,7,6,5,4,3,2,1], inplace=True)\n",
    "new_data['occupation'].replace(['Exec-managerial', 'Machine-op-inspct', 'Prof-specialty', 'Other-service', \n",
    "                                'Adm-clerical','Tech-support', 'Protective-serv', 'Handlers-cleaners', \n",
    "                                'Armed-Forces', 'Priv-house-serv','Sales','Craft-repair','Farming-fishing','Transport-moving'],\n",
    "                               [14,13,12,11,10,9,8,7,6,5,4,3,2,1], inplace=True)\n",
    "\n"
   ]
  },
  {
   "cell_type": "code",
   "execution_count": 37,
   "id": "lCampFPdIQW5",
   "metadata": {
    "id": "lCampFPdIQW5"
   },
   "outputs": [],
   "source": [
    "#rescaling the range of numerical values to 0 to 1\n",
    "num_cols = ['age','fnlwgt','education.num','capital.gain','capital.loss','hours.per.week']\n",
    "new_data[num_cols] = ((new_data[num_cols] - new_data[num_cols].min())/\n",
    "                        (new_data[num_cols].max() - new_data[num_cols].min()))"
   ]
  },
  {
   "cell_type": "code",
   "execution_count": 38,
   "id": "dTrxvkzV5C_b",
   "metadata": {
    "colab": {
     "base_uri": "https://localhost:8080/",
     "height": 423
    },
    "id": "dTrxvkzV5C_b",
    "outputId": "96971c82-0896-44c3-9f18-c41ca1b4e827"
   },
   "outputs": [
    {
     "data": {
      "text/html": [
       "<div>\n",
       "<style scoped>\n",
       "    .dataframe tbody tr th:only-of-type {\n",
       "        vertical-align: middle;\n",
       "    }\n",
       "\n",
       "    .dataframe tbody tr th {\n",
       "        vertical-align: top;\n",
       "    }\n",
       "\n",
       "    .dataframe thead th {\n",
       "        text-align: right;\n",
       "    }\n",
       "</style>\n",
       "<table border=\"1\" class=\"dataframe\">\n",
       "  <thead>\n",
       "    <tr style=\"text-align: right;\">\n",
       "      <th></th>\n",
       "      <th>age</th>\n",
       "      <th>workclass</th>\n",
       "      <th>fnlwgt</th>\n",
       "      <th>education</th>\n",
       "      <th>education.num</th>\n",
       "      <th>marital_status</th>\n",
       "      <th>occupation</th>\n",
       "      <th>relationship</th>\n",
       "      <th>race</th>\n",
       "      <th>sex</th>\n",
       "      <th>capital.gain</th>\n",
       "      <th>capital.loss</th>\n",
       "      <th>hours.per.week</th>\n",
       "      <th>native_country</th>\n",
       "      <th>income</th>\n",
       "    </tr>\n",
       "  </thead>\n",
       "  <tbody>\n",
       "    <tr>\n",
       "      <th>1</th>\n",
       "      <td>0.890411</td>\n",
       "      <td>5</td>\n",
       "      <td>0.080970</td>\n",
       "      <td>16</td>\n",
       "      <td>0.533333</td>\n",
       "      <td>7</td>\n",
       "      <td>14</td>\n",
       "      <td>6</td>\n",
       "      <td>5</td>\n",
       "      <td>1</td>\n",
       "      <td>0.0</td>\n",
       "      <td>1.000000</td>\n",
       "      <td>0.173469</td>\n",
       "      <td>1</td>\n",
       "      <td>0</td>\n",
       "    </tr>\n",
       "    <tr>\n",
       "      <th>3</th>\n",
       "      <td>0.506849</td>\n",
       "      <td>5</td>\n",
       "      <td>0.086061</td>\n",
       "      <td>15</td>\n",
       "      <td>0.200000</td>\n",
       "      <td>6</td>\n",
       "      <td>13</td>\n",
       "      <td>5</td>\n",
       "      <td>5</td>\n",
       "      <td>1</td>\n",
       "      <td>0.0</td>\n",
       "      <td>0.895317</td>\n",
       "      <td>0.397959</td>\n",
       "      <td>1</td>\n",
       "      <td>0</td>\n",
       "    </tr>\n",
       "    <tr>\n",
       "      <th>4</th>\n",
       "      <td>0.328767</td>\n",
       "      <td>5</td>\n",
       "      <td>0.170568</td>\n",
       "      <td>14</td>\n",
       "      <td>0.600000</td>\n",
       "      <td>5</td>\n",
       "      <td>12</td>\n",
       "      <td>4</td>\n",
       "      <td>5</td>\n",
       "      <td>1</td>\n",
       "      <td>0.0</td>\n",
       "      <td>0.895317</td>\n",
       "      <td>0.397959</td>\n",
       "      <td>1</td>\n",
       "      <td>0</td>\n",
       "    </tr>\n",
       "    <tr>\n",
       "      <th>5</th>\n",
       "      <td>0.232877</td>\n",
       "      <td>5</td>\n",
       "      <td>0.138072</td>\n",
       "      <td>16</td>\n",
       "      <td>0.533333</td>\n",
       "      <td>6</td>\n",
       "      <td>11</td>\n",
       "      <td>5</td>\n",
       "      <td>5</td>\n",
       "      <td>1</td>\n",
       "      <td>0.0</td>\n",
       "      <td>0.865473</td>\n",
       "      <td>0.448980</td>\n",
       "      <td>1</td>\n",
       "      <td>0</td>\n",
       "    </tr>\n",
       "    <tr>\n",
       "      <th>6</th>\n",
       "      <td>0.287671</td>\n",
       "      <td>5</td>\n",
       "      <td>0.093024</td>\n",
       "      <td>13</td>\n",
       "      <td>0.333333</td>\n",
       "      <td>5</td>\n",
       "      <td>10</td>\n",
       "      <td>5</td>\n",
       "      <td>5</td>\n",
       "      <td>0</td>\n",
       "      <td>0.0</td>\n",
       "      <td>0.865473</td>\n",
       "      <td>0.397959</td>\n",
       "      <td>1</td>\n",
       "      <td>0</td>\n",
       "    </tr>\n",
       "    <tr>\n",
       "      <th>7</th>\n",
       "      <td>0.780822</td>\n",
       "      <td>2</td>\n",
       "      <td>0.050899</td>\n",
       "      <td>12</td>\n",
       "      <td>1.000000</td>\n",
       "      <td>4</td>\n",
       "      <td>12</td>\n",
       "      <td>3</td>\n",
       "      <td>5</td>\n",
       "      <td>1</td>\n",
       "      <td>0.0</td>\n",
       "      <td>0.845500</td>\n",
       "      <td>0.193878</td>\n",
       "      <td>1</td>\n",
       "      <td>1</td>\n",
       "    </tr>\n",
       "    <tr>\n",
       "      <th>8</th>\n",
       "      <td>0.698630</td>\n",
       "      <td>7</td>\n",
       "      <td>0.277540</td>\n",
       "      <td>16</td>\n",
       "      <td>0.533333</td>\n",
       "      <td>6</td>\n",
       "      <td>12</td>\n",
       "      <td>6</td>\n",
       "      <td>5</td>\n",
       "      <td>1</td>\n",
       "      <td>0.0</td>\n",
       "      <td>0.845500</td>\n",
       "      <td>0.397959</td>\n",
       "      <td>1</td>\n",
       "      <td>0</td>\n",
       "    </tr>\n",
       "    <tr>\n",
       "      <th>10</th>\n",
       "      <td>0.383562</td>\n",
       "      <td>5</td>\n",
       "      <td>0.107758</td>\n",
       "      <td>12</td>\n",
       "      <td>1.000000</td>\n",
       "      <td>6</td>\n",
       "      <td>12</td>\n",
       "      <td>5</td>\n",
       "      <td>4</td>\n",
       "      <td>1</td>\n",
       "      <td>0.0</td>\n",
       "      <td>0.689624</td>\n",
       "      <td>0.346939</td>\n",
       "      <td>1</td>\n",
       "      <td>1</td>\n",
       "    </tr>\n",
       "    <tr>\n",
       "      <th>11</th>\n",
       "      <td>0.287671</td>\n",
       "      <td>3</td>\n",
       "      <td>0.102491</td>\n",
       "      <td>1</td>\n",
       "      <td>0.933333</td>\n",
       "      <td>4</td>\n",
       "      <td>12</td>\n",
       "      <td>6</td>\n",
       "      <td>5</td>\n",
       "      <td>0</td>\n",
       "      <td>0.0</td>\n",
       "      <td>0.648301</td>\n",
       "      <td>0.448980</td>\n",
       "      <td>1</td>\n",
       "      <td>1</td>\n",
       "    </tr>\n",
       "    <tr>\n",
       "      <th>12</th>\n",
       "      <td>0.479452</td>\n",
       "      <td>5</td>\n",
       "      <td>0.078459</td>\n",
       "      <td>6</td>\n",
       "      <td>0.800000</td>\n",
       "      <td>7</td>\n",
       "      <td>11</td>\n",
       "      <td>6</td>\n",
       "      <td>5</td>\n",
       "      <td>1</td>\n",
       "      <td>0.0</td>\n",
       "      <td>0.648301</td>\n",
       "      <td>0.193878</td>\n",
       "      <td>1</td>\n",
       "      <td>1</td>\n",
       "    </tr>\n",
       "  </tbody>\n",
       "</table>\n",
       "</div>"
      ],
      "text/plain": [
       "         age  workclass    fnlwgt  education  education.num  marital_status  \\\n",
       "1   0.890411          5  0.080970         16       0.533333               7   \n",
       "3   0.506849          5  0.086061         15       0.200000               6   \n",
       "4   0.328767          5  0.170568         14       0.600000               5   \n",
       "5   0.232877          5  0.138072         16       0.533333               6   \n",
       "6   0.287671          5  0.093024         13       0.333333               5   \n",
       "7   0.780822          2  0.050899         12       1.000000               4   \n",
       "8   0.698630          7  0.277540         16       0.533333               6   \n",
       "10  0.383562          5  0.107758         12       1.000000               6   \n",
       "11  0.287671          3  0.102491          1       0.933333               4   \n",
       "12  0.479452          5  0.078459          6       0.800000               7   \n",
       "\n",
       "    occupation  relationship  race  sex  capital.gain  capital.loss  \\\n",
       "1           14             6     5    1           0.0      1.000000   \n",
       "3           13             5     5    1           0.0      0.895317   \n",
       "4           12             4     5    1           0.0      0.895317   \n",
       "5           11             5     5    1           0.0      0.865473   \n",
       "6           10             5     5    0           0.0      0.865473   \n",
       "7           12             3     5    1           0.0      0.845500   \n",
       "8           12             6     5    1           0.0      0.845500   \n",
       "10          12             5     4    1           0.0      0.689624   \n",
       "11          12             6     5    0           0.0      0.648301   \n",
       "12          11             6     5    1           0.0      0.648301   \n",
       "\n",
       "    hours.per.week  native_country  income  \n",
       "1         0.173469               1       0  \n",
       "3         0.397959               1       0  \n",
       "4         0.397959               1       0  \n",
       "5         0.448980               1       0  \n",
       "6         0.397959               1       0  \n",
       "7         0.193878               1       1  \n",
       "8         0.397959               1       0  \n",
       "10        0.346939               1       1  \n",
       "11        0.448980               1       1  \n",
       "12        0.193878               1       1  "
      ]
     },
     "execution_count": 38,
     "metadata": {},
     "output_type": "execute_result"
    }
   ],
   "source": [
    "new_data.head(10)"
   ]
  },
  {
   "cell_type": "code",
   "execution_count": 39,
   "id": "w_4UUZpCwA2z",
   "metadata": {
    "id": "w_4UUZpCwA2z"
   },
   "outputs": [],
   "source": [
    "#new_data.drop(['native_country'], axis=1)"
   ]
  },
  {
   "cell_type": "code",
   "execution_count": 40,
   "id": "g-uTaqmD5DCi",
   "metadata": {
    "id": "g-uTaqmD5DCi"
   },
   "outputs": [],
   "source": [
    "X = new_data.drop(columns = 'income',axis =1)\n",
    "y = new_data['income']\n",
    "\n",
    "X_train, X_test, y_train, y_test = train_test_split(X,y,test_size=0.33, random_state=42)\n",
    "X_train.shape, y_train.shape, X_test.shape, y_test.shape\n",
    "\n",
    "X_train= np.asarray(X_train).astype('float32')\n",
    "y_train= np.asarray(y_train).astype('float32')"
   ]
  },
  {
   "cell_type": "code",
   "execution_count": 41,
   "id": "9WfHz_Fg3rf3",
   "metadata": {
    "colab": {
     "base_uri": "https://localhost:8080/"
    },
    "id": "9WfHz_Fg3rf3",
    "outputId": "8cd65aa3-0eac-4dbf-9aa1-22d3844c9553"
   },
   "outputs": [
    {
     "name": "stdout",
     "output_type": "stream",
     "text": [
      "Epoch 1/100\n",
      "1263/1263 [==============================] - 3s 2ms/step - loss: 0.4480 - accuracy: 0.8067 - val_loss: 0.3973 - val_accuracy: 0.8198\n",
      "Epoch 2/100\n",
      "1263/1263 [==============================] - 2s 2ms/step - loss: 0.3887 - accuracy: 0.8216 - val_loss: 0.3712 - val_accuracy: 0.8284\n",
      "Epoch 3/100\n",
      "1263/1263 [==============================] - 2s 2ms/step - loss: 0.3704 - accuracy: 0.8274 - val_loss: 0.3689 - val_accuracy: 0.8226\n",
      "Epoch 4/100\n",
      "1263/1263 [==============================] - 2s 2ms/step - loss: 0.3596 - accuracy: 0.8327 - val_loss: 0.3502 - val_accuracy: 0.8335\n",
      "Epoch 5/100\n",
      "1263/1263 [==============================] - 2s 2ms/step - loss: 0.3517 - accuracy: 0.8364 - val_loss: 0.3451 - val_accuracy: 0.8379\n",
      "Epoch 6/100\n",
      "1263/1263 [==============================] - 2s 2ms/step - loss: 0.3498 - accuracy: 0.8378 - val_loss: 0.3520 - val_accuracy: 0.8387\n",
      "Epoch 7/100\n",
      "1263/1263 [==============================] - 2s 2ms/step - loss: 0.3472 - accuracy: 0.8391 - val_loss: 0.3374 - val_accuracy: 0.8455\n",
      "Epoch 8/100\n",
      "1263/1263 [==============================] - 2s 2ms/step - loss: 0.3461 - accuracy: 0.8393 - val_loss: 0.3357 - val_accuracy: 0.8456\n",
      "Epoch 9/100\n",
      "1263/1263 [==============================] - 3s 2ms/step - loss: 0.3448 - accuracy: 0.8403 - val_loss: 0.3371 - val_accuracy: 0.8445\n",
      "Epoch 10/100\n",
      "1263/1263 [==============================] - 2s 2ms/step - loss: 0.3439 - accuracy: 0.8419 - val_loss: 0.3485 - val_accuracy: 0.8310\n",
      "Epoch 11/100\n",
      "1263/1263 [==============================] - 2s 2ms/step - loss: 0.3398 - accuracy: 0.8422 - val_loss: 0.3334 - val_accuracy: 0.8455\n",
      "Epoch 12/100\n",
      "1263/1263 [==============================] - 2s 2ms/step - loss: 0.3396 - accuracy: 0.8427 - val_loss: 0.3337 - val_accuracy: 0.8444\n",
      "Epoch 13/100\n",
      "1263/1263 [==============================] - 2s 2ms/step - loss: 0.3375 - accuracy: 0.8429 - val_loss: 0.3279 - val_accuracy: 0.8463\n",
      "Epoch 14/100\n",
      "1263/1263 [==============================] - 2s 2ms/step - loss: 0.3359 - accuracy: 0.8450 - val_loss: 0.3327 - val_accuracy: 0.8470\n",
      "Epoch 15/100\n",
      "1263/1263 [==============================] - 3s 2ms/step - loss: 0.3341 - accuracy: 0.8441 - val_loss: 0.3301 - val_accuracy: 0.8436\n",
      "Epoch 16/100\n",
      "1263/1263 [==============================] - 2s 2ms/step - loss: 0.3342 - accuracy: 0.8438 - val_loss: 0.3288 - val_accuracy: 0.8460\n",
      "Epoch 17/100\n",
      "1263/1263 [==============================] - 2s 2ms/step - loss: 0.3326 - accuracy: 0.8439 - val_loss: 0.3241 - val_accuracy: 0.8469\n",
      "Epoch 18/100\n",
      "1263/1263 [==============================] - 2s 2ms/step - loss: 0.3310 - accuracy: 0.8449 - val_loss: 0.3332 - val_accuracy: 0.8442\n",
      "Epoch 19/100\n",
      "1263/1263 [==============================] - 3s 2ms/step - loss: 0.3318 - accuracy: 0.8442 - val_loss: 0.3244 - val_accuracy: 0.8483\n",
      "Epoch 20/100\n",
      "1263/1263 [==============================] - 3s 2ms/step - loss: 0.3295 - accuracy: 0.8466 - val_loss: 0.3292 - val_accuracy: 0.8473\n",
      "Epoch 21/100\n",
      "1263/1263 [==============================] - 2s 2ms/step - loss: 0.3293 - accuracy: 0.8450 - val_loss: 0.3268 - val_accuracy: 0.8481\n",
      "Epoch 22/100\n",
      "1263/1263 [==============================] - 2s 2ms/step - loss: 0.3293 - accuracy: 0.8457 - val_loss: 0.3347 - val_accuracy: 0.8421\n",
      "Epoch 23/100\n",
      "1263/1263 [==============================] - 2s 2ms/step - loss: 0.3286 - accuracy: 0.8450 - val_loss: 0.3401 - val_accuracy: 0.8418\n",
      "Epoch 24/100\n",
      "1263/1263 [==============================] - 3s 2ms/step - loss: 0.3288 - accuracy: 0.8458 - val_loss: 0.3243 - val_accuracy: 0.8467\n",
      "Epoch 25/100\n",
      "1263/1263 [==============================] - 3s 2ms/step - loss: 0.3268 - accuracy: 0.8464 - val_loss: 0.3197 - val_accuracy: 0.8500\n",
      "Epoch 26/100\n",
      "1263/1263 [==============================] - 2s 2ms/step - loss: 0.3270 - accuracy: 0.8480 - val_loss: 0.3203 - val_accuracy: 0.8514\n",
      "Epoch 27/100\n",
      "1263/1263 [==============================] - 2s 2ms/step - loss: 0.3275 - accuracy: 0.8467 - val_loss: 0.3301 - val_accuracy: 0.8461\n",
      "Epoch 28/100\n",
      "1263/1263 [==============================] - 2s 2ms/step - loss: 0.3253 - accuracy: 0.8475 - val_loss: 0.3176 - val_accuracy: 0.8496\n",
      "Epoch 29/100\n",
      "1263/1263 [==============================] - 2s 2ms/step - loss: 0.3253 - accuracy: 0.8479 - val_loss: 0.3166 - val_accuracy: 0.8511\n",
      "Epoch 30/100\n",
      "1263/1263 [==============================] - 2s 2ms/step - loss: 0.3251 - accuracy: 0.8468 - val_loss: 0.3230 - val_accuracy: 0.8472\n",
      "Epoch 31/100\n",
      "1263/1263 [==============================] - 3s 2ms/step - loss: 0.3232 - accuracy: 0.8502 - val_loss: 0.3196 - val_accuracy: 0.8502\n",
      "Epoch 32/100\n",
      "1263/1263 [==============================] - 3s 2ms/step - loss: 0.3238 - accuracy: 0.8463 - val_loss: 0.3195 - val_accuracy: 0.8497\n",
      "Epoch 33/100\n",
      "1263/1263 [==============================] - 2s 2ms/step - loss: 0.3228 - accuracy: 0.8486 - val_loss: 0.3150 - val_accuracy: 0.8510\n",
      "Epoch 34/100\n",
      "1263/1263 [==============================] - 3s 2ms/step - loss: 0.3213 - accuracy: 0.8490 - val_loss: 0.3320 - val_accuracy: 0.8487\n",
      "Epoch 35/100\n",
      "1263/1263 [==============================] - 2s 2ms/step - loss: 0.3227 - accuracy: 0.8472 - val_loss: 0.3185 - val_accuracy: 0.8496\n",
      "Epoch 36/100\n",
      "1263/1263 [==============================] - 3s 2ms/step - loss: 0.3211 - accuracy: 0.8488 - val_loss: 0.3221 - val_accuracy: 0.8507\n",
      "Epoch 37/100\n",
      "1263/1263 [==============================] - 3s 2ms/step - loss: 0.3202 - accuracy: 0.8504 - val_loss: 0.3139 - val_accuracy: 0.8513\n",
      "Epoch 38/100\n",
      "1263/1263 [==============================] - 3s 2ms/step - loss: 0.3217 - accuracy: 0.8465 - val_loss: 0.3131 - val_accuracy: 0.8501\n",
      "Epoch 39/100\n",
      "1263/1263 [==============================] - 2s 2ms/step - loss: 0.3197 - accuracy: 0.8489 - val_loss: 0.3274 - val_accuracy: 0.8475\n",
      "Epoch 40/100\n",
      "1263/1263 [==============================] - 3s 2ms/step - loss: 0.3207 - accuracy: 0.8477 - val_loss: 0.3145 - val_accuracy: 0.8516\n",
      "Epoch 41/100\n",
      "1263/1263 [==============================] - 3s 2ms/step - loss: 0.3202 - accuracy: 0.8505 - val_loss: 0.3344 - val_accuracy: 0.8419\n",
      "Epoch 42/100\n",
      "1263/1263 [==============================] - 2s 2ms/step - loss: 0.3192 - accuracy: 0.8488 - val_loss: 0.3218 - val_accuracy: 0.8482\n",
      "Epoch 43/100\n",
      "1263/1263 [==============================] - 2s 2ms/step - loss: 0.3179 - accuracy: 0.8510 - val_loss: 0.3170 - val_accuracy: 0.8496\n",
      "Epoch 44/100\n",
      "1263/1263 [==============================] - 2s 2ms/step - loss: 0.3190 - accuracy: 0.8477 - val_loss: 0.3127 - val_accuracy: 0.8525\n",
      "Epoch 45/100\n",
      "1263/1263 [==============================] - 3s 2ms/step - loss: 0.3178 - accuracy: 0.8498 - val_loss: 0.3134 - val_accuracy: 0.8532\n",
      "Epoch 46/100\n",
      "1263/1263 [==============================] - 2s 2ms/step - loss: 0.3182 - accuracy: 0.8499 - val_loss: 0.3127 - val_accuracy: 0.8517\n",
      "Epoch 47/100\n",
      "1263/1263 [==============================] - 2s 2ms/step - loss: 0.3179 - accuracy: 0.8518 - val_loss: 0.3200 - val_accuracy: 0.8484\n",
      "Epoch 48/100\n",
      "1263/1263 [==============================] - 2s 2ms/step - loss: 0.3168 - accuracy: 0.8494 - val_loss: 0.3225 - val_accuracy: 0.8504\n",
      "Epoch 49/100\n",
      "1263/1263 [==============================] - 2s 2ms/step - loss: 0.3170 - accuracy: 0.8507 - val_loss: 0.3214 - val_accuracy: 0.8461\n",
      "Epoch 50/100\n",
      "1263/1263 [==============================] - 2s 2ms/step - loss: 0.3162 - accuracy: 0.8503 - val_loss: 0.3137 - val_accuracy: 0.8510\n",
      "Epoch 51/100\n",
      "1263/1263 [==============================] - 2s 2ms/step - loss: 0.3163 - accuracy: 0.8515 - val_loss: 0.3146 - val_accuracy: 0.8497\n",
      "Epoch 52/100\n",
      "1263/1263 [==============================] - 3s 2ms/step - loss: 0.3164 - accuracy: 0.8526 - val_loss: 0.3080 - val_accuracy: 0.8545\n",
      "Epoch 53/100\n",
      "1263/1263 [==============================] - 3s 2ms/step - loss: 0.3147 - accuracy: 0.8518 - val_loss: 0.3108 - val_accuracy: 0.8523\n",
      "Epoch 54/100\n",
      "1263/1263 [==============================] - 3s 2ms/step - loss: 0.3161 - accuracy: 0.8518 - val_loss: 0.3090 - val_accuracy: 0.8544\n",
      "Epoch 55/100\n",
      "1263/1263 [==============================] - 2s 2ms/step - loss: 0.3154 - accuracy: 0.8520 - val_loss: 0.3127 - val_accuracy: 0.8529\n",
      "Epoch 56/100\n",
      "1263/1263 [==============================] - 3s 2ms/step - loss: 0.3150 - accuracy: 0.8509 - val_loss: 0.3066 - val_accuracy: 0.8542\n",
      "Epoch 57/100\n",
      "1263/1263 [==============================] - 2s 2ms/step - loss: 0.3146 - accuracy: 0.8506 - val_loss: 0.3105 - val_accuracy: 0.8524\n",
      "Epoch 58/100\n",
      "1263/1263 [==============================] - 2s 2ms/step - loss: 0.3150 - accuracy: 0.8511 - val_loss: 0.3097 - val_accuracy: 0.8528\n",
      "Epoch 59/100\n",
      "1263/1263 [==============================] - 3s 2ms/step - loss: 0.3128 - accuracy: 0.8528 - val_loss: 0.3117 - val_accuracy: 0.8541\n",
      "Epoch 60/100\n",
      "1263/1263 [==============================] - 2s 2ms/step - loss: 0.3145 - accuracy: 0.8494 - val_loss: 0.3124 - val_accuracy: 0.8524\n",
      "Epoch 61/100\n",
      "1263/1263 [==============================] - 3s 2ms/step - loss: 0.3125 - accuracy: 0.8531 - val_loss: 0.3158 - val_accuracy: 0.8536\n",
      "Epoch 62/100\n",
      "1263/1263 [==============================] - 3s 2ms/step - loss: 0.3127 - accuracy: 0.8543 - val_loss: 0.3093 - val_accuracy: 0.8551\n",
      "Epoch 63/100\n",
      "1263/1263 [==============================] - 3s 2ms/step - loss: 0.3117 - accuracy: 0.8522 - val_loss: 0.3058 - val_accuracy: 0.8552\n",
      "Epoch 64/100\n",
      "1263/1263 [==============================] - 2s 2ms/step - loss: 0.3128 - accuracy: 0.8504 - val_loss: 0.3090 - val_accuracy: 0.8550\n",
      "Epoch 65/100\n",
      "1263/1263 [==============================] - 2s 2ms/step - loss: 0.3133 - accuracy: 0.8511 - val_loss: 0.3097 - val_accuracy: 0.8539\n",
      "Epoch 66/100\n",
      "1263/1263 [==============================] - 2s 2ms/step - loss: 0.3128 - accuracy: 0.8540 - val_loss: 0.3099 - val_accuracy: 0.8554\n",
      "Epoch 67/100\n",
      "1263/1263 [==============================] - 2s 2ms/step - loss: 0.3115 - accuracy: 0.8529 - val_loss: 0.3145 - val_accuracy: 0.8475\n",
      "Epoch 68/100\n",
      "1263/1263 [==============================] - 3s 2ms/step - loss: 0.3120 - accuracy: 0.8538 - val_loss: 0.3070 - val_accuracy: 0.8555\n",
      "Epoch 69/100\n",
      "1263/1263 [==============================] - 3s 2ms/step - loss: 0.3104 - accuracy: 0.8542 - val_loss: 0.3088 - val_accuracy: 0.8530\n",
      "Epoch 70/100\n",
      "1263/1263 [==============================] - 3s 2ms/step - loss: 0.3112 - accuracy: 0.8530 - val_loss: 0.3048 - val_accuracy: 0.8568\n",
      "Epoch 71/100\n",
      "1263/1263 [==============================] - 3s 2ms/step - loss: 0.3112 - accuracy: 0.8541 - val_loss: 0.3111 - val_accuracy: 0.8539\n",
      "Epoch 72/100\n",
      "1263/1263 [==============================] - 3s 2ms/step - loss: 0.3100 - accuracy: 0.8544 - val_loss: 0.3046 - val_accuracy: 0.8542\n",
      "Epoch 73/100\n",
      "1263/1263 [==============================] - 3s 2ms/step - loss: 0.3097 - accuracy: 0.8531 - val_loss: 0.3079 - val_accuracy: 0.8559\n",
      "Epoch 74/100\n",
      "1263/1263 [==============================] - 3s 2ms/step - loss: 0.3103 - accuracy: 0.8541 - val_loss: 0.3084 - val_accuracy: 0.8522\n",
      "Epoch 75/100\n",
      "1263/1263 [==============================] - 3s 2ms/step - loss: 0.3103 - accuracy: 0.8530 - val_loss: 0.3025 - val_accuracy: 0.8562\n",
      "Epoch 76/100\n",
      "1263/1263 [==============================] - 3s 2ms/step - loss: 0.3096 - accuracy: 0.8522 - val_loss: 0.3071 - val_accuracy: 0.8553\n",
      "Epoch 77/100\n",
      "1263/1263 [==============================] - 2s 2ms/step - loss: 0.3087 - accuracy: 0.8537 - val_loss: 0.3065 - val_accuracy: 0.8544\n",
      "Epoch 78/100\n",
      "1263/1263 [==============================] - 2s 2ms/step - loss: 0.3085 - accuracy: 0.8538 - val_loss: 0.3082 - val_accuracy: 0.8536\n",
      "Epoch 79/100\n",
      "1263/1263 [==============================] - 3s 2ms/step - loss: 0.3085 - accuracy: 0.8553 - val_loss: 0.3146 - val_accuracy: 0.8511\n",
      "Epoch 80/100\n",
      "1263/1263 [==============================] - 2s 2ms/step - loss: 0.3081 - accuracy: 0.8537 - val_loss: 0.3040 - val_accuracy: 0.8554\n",
      "Epoch 81/100\n",
      "1263/1263 [==============================] - 2s 2ms/step - loss: 0.3078 - accuracy: 0.8551 - val_loss: 0.3027 - val_accuracy: 0.8570\n",
      "Epoch 82/100\n",
      "1263/1263 [==============================] - 3s 2ms/step - loss: 0.3074 - accuracy: 0.8557 - val_loss: 0.3009 - val_accuracy: 0.8572\n",
      "Epoch 83/100\n",
      "1263/1263 [==============================] - 2s 2ms/step - loss: 0.3069 - accuracy: 0.8559 - val_loss: 0.3141 - val_accuracy: 0.8517\n",
      "Epoch 84/100\n",
      "1263/1263 [==============================] - 2s 2ms/step - loss: 0.3069 - accuracy: 0.8574 - val_loss: 0.3032 - val_accuracy: 0.8547\n",
      "Epoch 85/100\n",
      "1263/1263 [==============================] - 3s 2ms/step - loss: 0.3070 - accuracy: 0.8541 - val_loss: 0.3033 - val_accuracy: 0.8572\n",
      "Epoch 86/100\n",
      "1263/1263 [==============================] - 3s 2ms/step - loss: 0.3065 - accuracy: 0.8549 - val_loss: 0.2995 - val_accuracy: 0.8571\n",
      "Epoch 87/100\n",
      "1263/1263 [==============================] - 3s 2ms/step - loss: 0.3060 - accuracy: 0.8563 - val_loss: 0.3075 - val_accuracy: 0.8553\n",
      "Epoch 88/100\n",
      "1263/1263 [==============================] - 3s 2ms/step - loss: 0.3059 - accuracy: 0.8560 - val_loss: 0.3000 - val_accuracy: 0.8592\n",
      "Epoch 89/100\n",
      "1263/1263 [==============================] - 2s 2ms/step - loss: 0.3054 - accuracy: 0.8536 - val_loss: 0.2990 - val_accuracy: 0.8586\n",
      "Epoch 90/100\n",
      "1263/1263 [==============================] - 2s 2ms/step - loss: 0.3060 - accuracy: 0.8567 - val_loss: 0.3004 - val_accuracy: 0.8545\n",
      "Epoch 91/100\n",
      "1263/1263 [==============================] - 2s 2ms/step - loss: 0.3046 - accuracy: 0.8548 - val_loss: 0.3059 - val_accuracy: 0.8556\n",
      "Epoch 92/100\n",
      "1263/1263 [==============================] - 3s 2ms/step - loss: 0.3051 - accuracy: 0.8557 - val_loss: 0.3053 - val_accuracy: 0.8531\n",
      "Epoch 93/100\n",
      "1263/1263 [==============================] - 3s 2ms/step - loss: 0.3045 - accuracy: 0.8558 - val_loss: 0.2982 - val_accuracy: 0.8581\n",
      "Epoch 94/100\n",
      "1263/1263 [==============================] - 2s 2ms/step - loss: 0.3047 - accuracy: 0.8538 - val_loss: 0.2971 - val_accuracy: 0.8592\n",
      "Epoch 95/100\n",
      "1263/1263 [==============================] - 3s 2ms/step - loss: 0.3043 - accuracy: 0.8541 - val_loss: 0.2967 - val_accuracy: 0.8588\n",
      "Epoch 96/100\n",
      "1263/1263 [==============================] - 2s 2ms/step - loss: 0.3027 - accuracy: 0.8571 - val_loss: 0.3064 - val_accuracy: 0.8519\n",
      "Epoch 97/100\n",
      "1263/1263 [==============================] - 2s 2ms/step - loss: 0.3044 - accuracy: 0.8566 - val_loss: 0.3019 - val_accuracy: 0.8573\n",
      "Epoch 98/100\n",
      "1263/1263 [==============================] - 2s 2ms/step - loss: 0.3048 - accuracy: 0.8560 - val_loss: 0.3115 - val_accuracy: 0.8539\n",
      "Epoch 99/100\n",
      "1263/1263 [==============================] - 2s 2ms/step - loss: 0.3028 - accuracy: 0.8548 - val_loss: 0.3022 - val_accuracy: 0.8575\n",
      "Epoch 100/100\n",
      "1263/1263 [==============================] - 2s 2ms/step - loss: 0.3024 - accuracy: 0.8572 - val_loss: 0.2972 - val_accuracy: 0.8583\n"
     ]
    }
   ],
   "source": [
    "model = tf.keras.models.Sequential(\n",
    "    [\n",
    "     #tf.keras.layers.Flatten(),\n",
    "     #tf.keras.layers.Dense(512,activation = 'relu'),\n",
    "     #tf.keras.layers.Dense(64,activation = 'relu'),\n",
    "     tf.keras.layers.Dense(128,activation = 'relu'),\n",
    "     tf.keras.layers.Dense(32,activation = 'sigmoid'),\n",
    "     tf.keras.layers.Dense(8,activation = 'softmax')\n",
    "    ])\n",
    "\n",
    "model.compile(loss = 'sparse_categorical_crossentropy',optimizer = 'adam',metrics = ['accuracy'])\n",
    "\n",
    "my_model = model.fit(X_train,y_train,epochs = 100, validation_data=(X_train,y_train),batch_size=16)"
   ]
  },
  {
   "cell_type": "code",
   "execution_count": 45,
   "id": "CEtiRDWaku0y",
   "metadata": {
    "colab": {
     "base_uri": "https://localhost:8080/"
    },
    "id": "CEtiRDWaku0y",
    "outputId": "90c7046a-ea53-470a-d72c-cdcecf1d9dc9"
   },
   "outputs": [
    {
     "name": "stdout",
     "output_type": "stream",
     "text": [
      "312/312 [==============================] - 0s 1ms/step - loss: 0.3358 - accuracy: 0.8458\n",
      "The test accuracy : 84.57906246185303\n",
      "The test loss : 33.584797382354736\n"
     ]
    }
   ],
   "source": [
    "test_loss, test_acc = model.evaluate(X_test, y_test)\n",
    "test_acc= test_acc*100\n",
    "test_loss = test_loss*100\n",
    "print(\"The test accuracy :\",test_acc)\n",
    "print(\"The test loss :\", test_loss)"
   ]
  },
  {
   "cell_type": "code",
   "execution_count": 46,
   "id": "9Bs63U0vkvEb",
   "metadata": {
    "colab": {
     "base_uri": "https://localhost:8080/",
     "height": 282
    },
    "id": "9Bs63U0vkvEb",
    "outputId": "3f8a953b-5e57-4fbd-940f-1ec4d5b15aa5"
   },
   "outputs": [
    {
     "data": {
      "text/plain": [
       "[<matplotlib.lines.Line2D at 0x201e58ff9a0>]"
      ]
     },
     "execution_count": 46,
     "metadata": {},
     "output_type": "execute_result"
    },
    {
     "data": {
      "image/png": "[encoded data removed]",
      "text/plain": [
       "<Figure size 432x288 with 1 Axes>"
      ]
     },
     "metadata": {
      "needs_background": "light"
     },
     "output_type": "display_data"
    }
   ],
   "source": [
    "plt.plot(my_model.history['accuracy'])\n",
    "plt.plot(my_model.history['val_accuracy'])"
   ]
  },
  {
   "cell_type": "code",
   "execution_count": 44,
   "id": "j4uYyxNHngHI",
   "metadata": {
    "colab": {
     "base_uri": "https://localhost:8080/",
     "height": 282
    },
    "id": "j4uYyxNHngHI",
    "outputId": "5c986ac7-c989-4123-f433-bbca0c8544e7"
   },
   "outputs": [
    {
     "data": {
      "text/plain": [
       "[<matplotlib.lines.Line2D at 0x201e4881af0>]"
      ]
     },
     "execution_count": 44,
     "metadata": {},
     "output_type": "execute_result"
    },
    {
     "data": {
      "image/png": "[encoded data removed]",
      "text/plain": [
       "<Figure size 432x288 with 1 Axes>"
      ]
     },
     "metadata": {
      "needs_background": "light"
     },
     "output_type": "display_data"
    }
   ],
   "source": [
    "plt.plot(my_model.history['loss'])\n",
    "plt.plot(my_model.history['val_loss'])"
   ]
  },
  {
   "cell_type": "code",
   "execution_count": null,
   "id": "e32f65fa",
   "metadata": {},
   "outputs": [],
   "source": [
    "# References:\n",
    "\n",
    "# https://numpy.org/doc/stable/reference/\n",
    "# https://pandas.pydata.org/docs/reference/\n",
    "# https://matplotlib.org/stable/index.html\n",
    "# https://docs.python.org/3.9/library/index.html\n",
    "# https://keras.io/api/models/model/\n",
    "# https://scikit-learn.org/stable/modules/generated/sklearn.model_selection.train_test_split"
   ]
  }
 ],
 "metadata": {
  "colab": {
   "collapsed_sections": [],
   "name": "induraju_assignment3_part1.ipynb",
   "provenance": []
  },
  "kernelspec": {
   "display_name": "Python 3 (ipykernel)",
   "language": "python",
   "name": "python3"
  },
  "language_info": {
   "codemirror_mode": {
    "name": "ipython",
    "version": 3
   },
   "file_extension": ".py",
   "mimetype": "text/x-python",
   "name": "python",
   "nbconvert_exporter": "python",
   "pygments_lexer": "ipython3",
   "version": "3.9.7"
  }
 },
 "nbformat": 4,
 "nbformat_minor": 5
}
